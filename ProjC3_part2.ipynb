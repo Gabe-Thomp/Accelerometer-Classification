{
 "cells": [
  {
   "cell_type": "code",
   "execution_count": 1,
   "metadata": {},
   "outputs": [
    {
     "data": {
      "text/plain": [
       "<module 'fncs' from '/home/gathomp3/Deep_Learning/NNs/fncs.py'>"
      ]
     },
     "execution_count": 1,
     "metadata": {},
     "output_type": "execute_result"
    }
   ],
   "source": [
    "import numpy as np\n",
    "import importlib\n",
    "import fncs\n",
    "import matplotlib.pyplot as plt\n",
    "import random\n",
    "import pandas as pd\n",
    "\n",
    "importlib.reload(fncs)"
   ]
  },
  {
   "cell_type": "markdown",
   "metadata": {},
   "source": [
    "Helper Function"
   ]
  },
  {
   "cell_type": "code",
   "execution_count": 2,
   "metadata": {},
   "outputs": [],
   "source": [
    "import sklearn.metrics as metrics\n",
    "from sklearn.metrics import accuracy_score, confusion_matrix, ConfusionMatrixDisplay\n",
    "\n",
    "# This function produces a summary of performance metrics including a confusion matrix\n",
    "def summaryPerf(yTrain,yTrainHat,y,yHat):\n",
    "    # Plotting confusion matrix for the non-training set:\n",
    "    cm = metrics.confusion_matrix(y,yHat,normalize='true')\n",
    "    disp = metrics.ConfusionMatrixDisplay(confusion_matrix=cm,display_labels=\n",
    "                                  ['Walk Hard','Down Stairs','Up Stairs','Walk Soft'])\n",
    "    disp.plot()\n",
    "\n",
    "    # Displaying metrics for training and non-training sets\n",
    "    print('Training:  Acc = {:4.3f}'.format(metrics.accuracy_score(yTrain,yTrainHat)))\n",
    "    print('Non-Train: Acc = {:4.3f}'.format(metrics.accuracy_score(y,yHat)))\n",
    "    print('Training:  BalAcc = {:4.3f}'.format(metrics.balanced_accuracy_score(yTrain,yTrainHat)))\n",
    "    print('Non-Train: BalAcc = {:4.3f}'.format(metrics.balanced_accuracy_score(y,yHat)))"
   ]
  },
  {
   "cell_type": "markdown",
   "metadata": {},
   "source": [
    "## Load and visualize distribution of classes to pick validation trials"
   ]
  },
  {
   "cell_type": "code",
   "execution_count": 3,
   "metadata": {},
   "outputs": [
    {
     "data": {
      "image/png": "[encoded data removed]",
      "text/plain": [
       "<Figure size 3600x3000 with 1 Axes>"
      ]
     },
     "metadata": {},
     "output_type": "display_data"
    }
   ],
   "source": [
    "X_trial_path = \"./GaitData/data/train/\"\n",
    "\n",
    "#trainIDs = list(set(np.array(range(29))+1))\n",
    "trainIDs=[1]\n",
    "\n",
    "def load_and_viz_data(path,trainIDs):\n",
    "    \n",
    "    # Matplot lib stuff\n",
    "    fig, axs = plt.subplots(5, 6, figsize=(2*18, 2*15))\n",
    "    axs = axs.flatten()\n",
    "   \n",
    "    Xts = []\n",
    "    Xvs = []\n",
    "    yts = []\n",
    "    yvs = []\n",
    "    for i, idx in enumerate(trainIDs):\n",
    "        Xt, Xv, yt, yv = fncs.loadTrial(path, idx)\n",
    "        Xts.append(Xt)\n",
    "        Xvs.append(Xv)\n",
    "        yts.append(yt)\n",
    "        yvs.append(yv)\n",
    "\n",
    "        unique_classes, class_counts = np.unique(yv, return_counts=True)\n",
    "        \n",
    "        axs[i].bar(unique_classes, class_counts, color='skyblue')\n",
    "        axs[i].set_title(f'Trial {idx} Class Distribution')\n",
    "        axs[i].set_xlabel('Class Label')\n",
    "        axs[i].set_ylabel('Frequency')\n",
    "        axs[i].set_xticks(unique_classes)\n",
    "        axs[i].grid(axis='y', linestyle='--', alpha=0.7)\n",
    "\n",
    "    # Want to visualize the distribution of training trials\n",
    "    for i in range(len(trainIDs), len(axs)):\n",
    "        fig.delaxes(axs[i])\n",
    "\n",
    "    plt.tight_layout()\n",
    "    plt.show()\n",
    "    return Xts, Xvs, yts, yvs\n",
    "\n",
    "Xts, Xvs, yts, yvs = load_and_viz_data(X_trial_path,trainIDs)\n"
   ]
  },
  {
   "cell_type": "markdown",
   "metadata": {},
   "source": [
    "## Choosing Validation Trials [1, 8, 9, 20, 27] to get most heterogenous trials"
   ]
  },
  {
   "cell_type": "markdown",
   "metadata": {},
   "source": [
    "## Defining Window Extraction Function (reusing some code from the previous notebook)"
   ]
  },
  {
   "cell_type": "code",
   "execution_count": 4,
   "metadata": {},
   "outputs": [],
   "source": [
    "def extractWindow(xt,xv,winSz,timeStart,timeEnd,timeStep):\n",
    "    tList = []\n",
    "    windowList = []\n",
    "    # Specifying the initial window for extracting features\n",
    "    t0 = timeStart\n",
    "    t1 = t0+winSz\n",
    "\n",
    "    while(t1<=timeEnd):\n",
    "        # Using the middle time of the window as a reference time\n",
    "        tList.append((t0+t1)/2)\n",
    "\n",
    "        # Extracting xWindow\n",
    "        xWin = xv[(xt>=t0)*(xt<=t1),:]\n",
    "        windowList.append(xWin)\n",
    "        # Updating the window by shifting it by the step size\n",
    "        t0 = t0+timeStep\n",
    "        t1 = t0+winSz\n",
    "\n",
    "    tList = np.array(tList)\n",
    "    windowList = np.array(windowList)\n",
    "\n",
    "    return tList, windowList"
   ]
  },
  {
   "cell_type": "code",
   "execution_count": 5,
   "metadata": {},
   "outputs": [],
   "source": [
    "# Extract label takes mode over window range. This should be fine.\n",
    "timeStep = 1\n",
    "winSz = 3\n",
    "time_start = 0\n",
    "time_end = 60\n",
    "\n",
    "# Temporary to test windowing function\n",
    "\n",
    "Xt_train = Xts[0] \n",
    "Xv_train = Xvs[0]\n",
    "yt_train = yts[0]\n",
    "yv_train = yvs[0]\n",
    "\n",
    "time_list_temp, window_list_temp = extractWindow(Xt_train, Xv_train, winSz, time_start, time_end, timeStep)\n"
   ]
  },
  {
   "cell_type": "markdown",
   "metadata": {},
   "source": [
    "### Dims: 1D array of all mean window times"
   ]
  },
  {
   "cell_type": "code",
   "execution_count": 6,
   "metadata": {},
   "outputs": [
    {
     "data": {
      "text/plain": [
       "(array([ 1.5,  2.5,  3.5,  4.5,  5.5,  6.5,  7.5,  8.5,  9.5, 10.5, 11.5,\n",
       "        12.5, 13.5, 14.5, 15.5, 16.5, 17.5, 18.5, 19.5, 20.5, 21.5, 22.5,\n",
       "        23.5, 24.5, 25.5, 26.5, 27.5, 28.5, 29.5, 30.5, 31.5, 32.5, 33.5,\n",
       "        34.5, 35.5, 36.5, 37.5, 38.5, 39.5, 40.5, 41.5, 42.5, 43.5, 44.5,\n",
       "        45.5, 46.5, 47.5, 48.5, 49.5, 50.5, 51.5, 52.5, 53.5, 54.5, 55.5,\n",
       "        56.5, 57.5, 58.5]),\n",
       " (58,))"
      ]
     },
     "execution_count": 6,
     "metadata": {},
     "output_type": "execute_result"
    }
   ],
   "source": [
    "time_list_temp, time_list_temp.shape "
   ]
  },
  {
   "cell_type": "markdown",
   "metadata": {},
   "source": [
    "### Dims: Number of windows x samples per window x number of channels"
   ]
  },
  {
   "cell_type": "code",
   "execution_count": 7,
   "metadata": {},
   "outputs": [
    {
     "data": {
      "text/plain": [
       "(58, 121, 6)"
      ]
     },
     "execution_count": 7,
     "metadata": {},
     "output_type": "execute_result"
    }
   ],
   "source": [
    "window_list_temp.shape"
   ]
  },
  {
   "cell_type": "markdown",
   "metadata": {},
   "source": [
    "#### Checking the extract label for y's"
   ]
  },
  {
   "cell_type": "code",
   "execution_count": 8,
   "metadata": {},
   "outputs": [],
   "source": [
    "yt_temps, yv_temps = fncs.extractLabel(yt_train, yv_train, winSz, time_start, time_end, timeStep)"
   ]
  },
  {
   "cell_type": "code",
   "execution_count": 9,
   "metadata": {},
   "outputs": [
    {
     "data": {
      "text/plain": [
       "((58,), (58,))"
      ]
     },
     "execution_count": 9,
     "metadata": {},
     "output_type": "execute_result"
    }
   ],
   "source": [
    "yt_temps.shape, yv_temps.shape"
   ]
  },
  {
   "cell_type": "code",
   "execution_count": 10,
   "metadata": {},
   "outputs": [
    {
     "data": {
      "text/plain": [
       "array([ 1.5,  2.5,  3.5,  4.5,  5.5,  6.5,  7.5,  8.5,  9.5, 10.5, 11.5,\n",
       "       12.5, 13.5, 14.5, 15.5, 16.5, 17.5, 18.5, 19.5, 20.5, 21.5, 22.5,\n",
       "       23.5, 24.5, 25.5, 26.5, 27.5, 28.5, 29.5, 30.5, 31.5, 32.5, 33.5,\n",
       "       34.5, 35.5, 36.5, 37.5, 38.5, 39.5, 40.5, 41.5, 42.5, 43.5, 44.5,\n",
       "       45.5, 46.5, 47.5, 48.5, 49.5, 50.5, 51.5, 52.5, 53.5, 54.5, 55.5,\n",
       "       56.5, 57.5, 58.5])"
      ]
     },
     "execution_count": 10,
     "metadata": {},
     "output_type": "execute_result"
    }
   ],
   "source": [
    "time_list_temp"
   ]
  },
  {
   "cell_type": "code",
   "execution_count": 11,
   "metadata": {},
   "outputs": [
    {
     "data": {
      "text/plain": [
       "array([ 1.5,  2.5,  3.5,  4.5,  5.5,  6.5,  7.5,  8.5,  9.5, 10.5, 11.5,\n",
       "       12.5, 13.5, 14.5, 15.5, 16.5, 17.5, 18.5, 19.5, 20.5, 21.5, 22.5,\n",
       "       23.5, 24.5, 25.5, 26.5, 27.5, 28.5, 29.5, 30.5, 31.5, 32.5, 33.5,\n",
       "       34.5, 35.5, 36.5, 37.5, 38.5, 39.5, 40.5, 41.5, 42.5, 43.5, 44.5,\n",
       "       45.5, 46.5, 47.5, 48.5, 49.5, 50.5, 51.5, 52.5, 53.5, 54.5, 55.5,\n",
       "       56.5, 57.5, 58.5])"
      ]
     },
     "execution_count": 11,
     "metadata": {},
     "output_type": "execute_result"
    }
   ],
   "source": [
    "yt_temps"
   ]
  },
  {
   "cell_type": "markdown",
   "metadata": {},
   "source": [
    "Looks good. Now we extract the windows from each trial and save to training and validation sets."
   ]
  },
  {
   "cell_type": "markdown",
   "metadata": {},
   "source": [
    "### Raw data to windowed data"
   ]
  },
  {
   "cell_type": "markdown",
   "metadata": {},
   "source": [
    "Specify hyperparameters window size and step size"
   ]
  },
  {
   "cell_type": "code",
   "execution_count": 12,
   "metadata": {},
   "outputs": [],
   "source": [
    "def loadWindows(dataFolder,winSz,timeStep,idList):\n",
    "    for k,id in enumerate(idList):\n",
    "        # Loading the raw data\n",
    "        xt, xv, yt, yv = fncs.loadTrial(dataFolder,id=id)\n",
    "\n",
    "        # Extracting the time window for which we have values for the measurements and the response\n",
    "        timeStart = np.max((np.min(xt),np.min(yt)))\n",
    "        timeEnd = np.min((np.max(xt),np.max(yt)))\n",
    "\n",
    "        # Extracting the features\n",
    "        x_times, x_windows = extractWindow(xt,xv,winSz,timeStart,timeEnd,timeStep)\n",
    "        y_times, lab = fncs.extractLabel(yt,yv,winSz,timeStart,timeEnd,timeStep)\n",
    "\n",
    "        # Storing the features\n",
    "        if(k==0):\n",
    "            window_list = x_windows\n",
    "            labList = lab\n",
    "            x_times_list = x_times\n",
    "            y_times_list = y_times\n",
    "        else:\n",
    "            window_list = np.concatenate((window_list,x_windows),axis=0)\n",
    "            labList = np.concatenate((labList,lab),axis=0)\n",
    "            x_times_list = np.concatenate((x_times_list,x_times),axis=0)\n",
    "            y_times_list = np.concatenate((y_times_list,y_times),axis=0)\n",
    "\n",
    "    return window_list, labList, x_times_list, y_times_list"
   ]
  },
  {
   "cell_type": "code",
   "execution_count": 13,
   "metadata": {},
   "outputs": [],
   "source": [
    "window_size = 3\n",
    "time_step = 1\n",
    "\n",
    "val_idxs = [1, 8, 9, 20, 27]\n",
    "train_idxs = [i for i in range(1,30) if i not in val_idxs]\n",
    "\n",
    "Xw_train, yw_train, xt_train, _ = loadWindows(X_trial_path,window_size,time_step,train_idxs)\n",
    "Xw_val, yw_val, xt_val, _ = loadWindows(X_trial_path,window_size,time_step,val_idxs)\n",
    "\n",
    "    \n"
   ]
  },
  {
   "cell_type": "code",
   "execution_count": 14,
   "metadata": {},
   "outputs": [
    {
     "data": {
      "text/plain": [
       "(27942, 120, 6)"
      ]
     },
     "execution_count": 14,
     "metadata": {},
     "output_type": "execute_result"
    }
   ],
   "source": [
    "Xw_train.shape"
   ]
  },
  {
   "cell_type": "markdown",
   "metadata": {},
   "source": [
    "## Preprocessing"
   ]
  },
  {
   "cell_type": "code",
   "execution_count": 15,
   "metadata": {},
   "outputs": [
    {
     "name": "stdout",
     "output_type": "stream",
     "text": [
      "cuda:0\n"
     ]
    }
   ],
   "source": [
    "import torch\n",
    "device = torch.device('cuda:0' if torch.cuda.is_available() else 'cpu')\n",
    "\n",
    "# Assuming that we are on a CUDA machine, this should print a CUDA device:\n",
    "print(device)"
   ]
  },
  {
   "cell_type": "markdown",
   "metadata": {},
   "source": [
    "Define weights which to weight cross-entropy function based on class imbalances"
   ]
  },
  {
   "cell_type": "code",
   "execution_count": 16,
   "metadata": {},
   "outputs": [],
   "source": [
    "# Weights for the loss function scaled by class\n",
    "class_distribution = np.unique(yw_train, return_counts=True)[1]\n",
    "scale_factor = 2\n",
    "weights = (scale_factor*(1/class_distribution)/np.linalg.norm(1/class_distribution)).tolist()"
   ]
  },
  {
   "cell_type": "code",
   "execution_count": 17,
   "metadata": {},
   "outputs": [
    {
     "data": {
      "text/plain": [
       "[0.08417742129136543,\n",
       " 1.566503142158926,\n",
       " 1.1674006299696538,\n",
       " 0.41971161110624955]"
      ]
     },
     "execution_count": 17,
     "metadata": {},
     "output_type": "execute_result"
    }
   ],
   "source": [
    "weights"
   ]
  },
  {
   "cell_type": "markdown",
   "metadata": {},
   "source": [
    "## Trying synthetic data"
   ]
  },
  {
   "cell_type": "code",
   "execution_count": 18,
   "metadata": {},
   "outputs": [
    {
     "data": {
      "text/plain": [
       "(27942, 120, 6)"
      ]
     },
     "execution_count": 18,
     "metadata": {},
     "output_type": "execute_result"
    }
   ],
   "source": [
    "Xw_train.shape"
   ]
  },
  {
   "cell_type": "code",
   "execution_count": 19,
   "metadata": {},
   "outputs": [],
   "source": [
    "from imblearn.over_sampling import RandomOverSampler\n",
    "\n",
    "ros = RandomOverSampler(random_state=42)\n",
    "\n",
    "# fit predictor and target\n",
    "temp_shape = Xw_train.shape\n",
    "Xw_train = Xw_train.reshape(Xw_train.shape[0],-1)\n",
    "\n",
    "Xw_train, yw_train = ros.fit_resample(Xw_train, yw_train)\n",
    "\n",
    "Xw_train = Xw_train.reshape([-1,120,6])"
   ]
  },
  {
   "cell_type": "code",
   "execution_count": 69,
   "metadata": {},
   "outputs": [],
   "source": [
    "import torch.optim as optim\n",
    "from torch.utils.data import TensorDataset, DataLoader\n",
    "import torch.nn as nn\n",
    "import torch.nn.functional as F\n",
    "from torch.utils.data import DataLoader\n",
    "from torch.nn.functional import normalize\n",
    "\n",
    "def transform(X, y=None):\n",
    "    X = torch.from_numpy(X).float()\n",
    "    X = normalize(X, dim = 2)\n",
    "    X = X.permute(0, 2, 1)\n",
    "    X = X.to(device)\n",
    "    \n",
    "    if y is not None:\n",
    "        y = torch.from_numpy(y).long()\n",
    "        y = y.to(device)\n",
    "        return X, y \n",
    "    return X\n",
    "\n",
    "\n",
    "def create_dataloader(X, y, batch_size, device, shuffle=False):\n",
    "    X,y = transform(X,y)\n",
    "\n",
    "    dataset = TensorDataset(X, y)\n",
    "    dataloader = DataLoader(dataset, batch_size=batch_size, shuffle=shuffle)\n",
    "    return dataloader, dataset\n",
    "\n",
    "batch_size = 200\n",
    "train_dataloader, train_dataset = create_dataloader(Xw_train, yw_train, batch_size, device, shuffle=True)\n",
    "val_dataloader, val_dataset = create_dataloader(Xw_val, yw_val, batch_size, device, shuffle=False)\n"
   ]
  },
  {
   "cell_type": "markdown",
   "metadata": {},
   "source": [
    "## Simple CNN"
   ]
  },
  {
   "cell_type": "code",
   "execution_count": 21,
   "metadata": {},
   "outputs": [],
   "source": [
    "simple_cnn = nn.Sequential(\n",
    "    nn.Conv1d(6, 12, kernel_size=3, padding=\"same\"),\n",
    "    nn.ReLU(),\n",
    "    nn.Conv1d(12, 24, kernel_size=3, padding=\"same\"),\n",
    "    nn.ReLU(),\n",
    "    nn.MaxPool1d(kernel_size=2, stride=2),\n",
    "    nn.Dropout(p=0.5) ,\n",
    "\n",
    "    nn.Flatten(),\n",
    "    nn.Linear(24*60, 200),\n",
    "    nn.ReLU(),\n",
    "    nn.Linear(200, 4),\n",
    ")"
   ]
  },
  {
   "cell_type": "code",
   "execution_count": 22,
   "metadata": {},
   "outputs": [
    {
     "data": {
      "text/plain": [
       "\"\\nepochs = 100\\nfor epoch in range(epochs):  # loop over the dataset multiple times\\n\\n    running_loss = 0.0\\n    for i, data in enumerate(train_dataloader, 0):\\n        # get the inputs; data is a list of [inputs, labels]\\n        inputs, labels = data\\n\\n        # zero the parameter gradients\\n        optimizer.zero_grad()\\n\\n        # forward + backward + optimize\\n        outputs = simple_cnn(inputs)\\n        loss = criterion(outputs, labels)\\n        loss.backward()\\n        optimizer.step()\\n\\n        # print statistics\\n        running_loss += loss.item()\\n        if i % 2000 == 1999:    # print every 2000 mini-batches\\n            print(f'[{epoch + 1}, {i + 1:5d}] loss: {running_loss / 2000:.3f}')\\n            running_loss = 0.0\\n\\nprint('Finished Training')\\n\""
      ]
     },
     "execution_count": 22,
     "metadata": {},
     "output_type": "execute_result"
    }
   ],
   "source": [
    "simple_cnn =  simple_cnn.to(device)\n",
    "\n",
    "# criterion = nn.CrossEntropyLoss(weight=torch.tensor(weights).to(device))\n",
    "criterion = nn.CrossEntropyLoss(weight=torch.tensor([1.75,1,1,1]).to(device))\n",
    "optimizer = optim.SGD(simple_cnn.parameters(), lr=0.001, momentum=0.999, weight_decay=0.01)\n",
    "'''\n",
    "epochs = 100\n",
    "for epoch in range(epochs):  # loop over the dataset multiple times\n",
    "\n",
    "    running_loss = 0.0\n",
    "    for i, data in enumerate(train_dataloader, 0):\n",
    "        # get the inputs; data is a list of [inputs, labels]\n",
    "        inputs, labels = data\n",
    "\n",
    "        # zero the parameter gradients\n",
    "        optimizer.zero_grad()\n",
    "\n",
    "        # forward + backward + optimize\n",
    "        outputs = simple_cnn(inputs)\n",
    "        loss = criterion(outputs, labels)\n",
    "        loss.backward()\n",
    "        optimizer.step()\n",
    "\n",
    "        # print statistics\n",
    "        running_loss += loss.item()\n",
    "        if i % 2000 == 1999:    # print every 2000 mini-batches\n",
    "            print(f'[{epoch + 1}, {i + 1:5d}] loss: {running_loss / 2000:.3f}')\n",
    "            running_loss = 0.0\n",
    "\n",
    "print('Finished Training')\n",
    "'''"
   ]
  },
  {
   "cell_type": "code",
   "execution_count": 23,
   "metadata": {},
   "outputs": [
    {
     "name": "stdout",
     "output_type": "stream",
     "text": [
      "Training:  Acc = 0.246\n",
      "Non-Train: Acc = 0.210\n",
      "Training:  BalAcc = 0.246\n",
      "Non-Train: BalAcc = 0.251\n"
     ]
    },
    {
     "data": {
      "image/png": "[encoded data removed]",
      "text/plain": [
       "<Figure size 640x480 with 2 Axes>"
      ]
     },
     "metadata": {},
     "output_type": "display_data"
    }
   ],
   "source": [
    "y_train_hat = simple_cnn(train_dataset.tensors[0].to(device)).argmax(1).cpu().numpy()\n",
    "y_val_hat = simple_cnn(val_dataset.tensors[0].to(device)).argmax(1).cpu().numpy()\n",
    "summaryPerf(yw_train,y_train_hat,yw_val,y_val_hat)"
   ]
  },
  {
   "cell_type": "code",
   "execution_count": 37,
   "metadata": {},
   "outputs": [
    {
     "name": "stdout",
     "output_type": "stream",
     "text": [
      "Accuracy: 0.24591759232887117\n",
      " Bal Acc: 0.24591759232887117\n",
      "\n"
     ]
    },
    {
     "data": {
      "image/png": "[encoded data removed]",
      "text/plain": [
       "<Figure size 640x480 with 2 Axes>"
      ]
     },
     "metadata": {},
     "output_type": "display_data"
    }
   ],
   "source": [
    "from sklearn.metrics import confusion_matrix, ConfusionMatrixDisplay, accuracy_score, balanced_accuracy_score\n",
    "\n",
    "def cm(y, y_hat):\n",
    "    cm = confusion_matrix(y, y_hat, normalize='true')\n",
    "    disp = ConfusionMatrixDisplay(confusion_matrix=cm, display_labels=['Walk Hard','Down Stairs','Up Stairs','Walk Soft'])\n",
    "    disp.plot()\n",
    "    print(f\"Accuracy: {accuracy_score(y,y_hat)}\\n Bal Acc: {balanced_accuracy_score(y,y_hat)}\\n\")\n",
    "cm(yw_train, y_train_hat)\n"
   ]
  },
  {
   "cell_type": "markdown",
   "metadata": {},
   "source": [
    "## Hyperparameter Tuning"
   ]
  },
  {
   "cell_type": "code",
   "execution_count": 26,
   "metadata": {},
   "outputs": [
    {
     "name": "stderr",
     "output_type": "stream",
     "text": [
      "/home/gathomp3/anaconda3/envs/DiffusionEnv/lib/python3.12/site-packages/tqdm/auto.py:21: TqdmWarning: IProgress not found. Please update jupyter and ipywidgets. See https://ipywidgets.readthedocs.io/en/stable/user_install.html\n",
      "  from .autonotebook import tqdm as notebook_tqdm\n"
     ]
    }
   ],
   "source": [
    "import optuna\n",
    "\n",
    "class CNN_simple(nn.Module): \n",
    "    def __init__(self, dropout_p=0.5, kernel1=3, kernel2=3, layer1 = 12,layer2 = 24, hidden_fc = 200):\n",
    "        super(CNN_simple, self).__init__()\n",
    "        self.model = nn.Sequential(\n",
    "            nn.Conv1d(6, layer1, kernel_size=kernel1, padding=\"same\"),\n",
    "            nn.ReLU(),\n",
    "            nn.Dropout(p=dropout_p),\n",
    "            nn.Conv1d(layer1, layer2, kernel_size=kernel2, padding=\"same\"),\n",
    "            nn.ReLU(),\n",
    "            nn.MaxPool1d(kernel_size=2, stride=2),\n",
    "            nn.Dropout(p=dropout_p), \n",
    "\n",
    "            nn.Flatten(),\n",
    "            nn.Linear(layer2*60, hidden_fc),\n",
    "            nn.Dropout(p=dropout_p),\n",
    "            nn.ReLU(),\n",
    "            nn.Linear(hidden_fc, 4),\n",
    "        )\n",
    "\n",
    "    def forward(self, x):\n",
    "        return self.model(x)\n",
    "\n",
    "def objective(trial, epochs=90):\n",
    "    # Hyperparameters\n",
    "    dropout_p = trial.suggest_float('dropout_p', 0, 0.5)\n",
    "    kernel1 = trial.suggest_int('kernel1', 3, 5)\n",
    "    kernel2 = trial.suggest_int('kernel2', 3, 5)\n",
    "    \n",
    "    layer2 = trial.suggest_int('layer2', 24, 48)\n",
    "\n",
    "    weight_decays = trial.suggest_loguniform('weight_decays', 1e-5, 1e-2)\n",
    "\n",
    "    hidden_fc = trial.suggest_int('hidden_fc', 100, 500)\n",
    "\n",
    "    weight1 = trial.suggest_float('weight1', 1, 2)\n",
    "\n",
    "    # For criterion\n",
    "    learning_rate = trial.suggest_loguniform('learning_rate', 1e-5, 1e-2)\n",
    "\n",
    "    temp_model = CNN_simple(dropout_p=dropout_p, kernel1=kernel1, kernel2=kernel2, layer1=12,\n",
    "                            layer2=layer2, hidden_fc=hidden_fc)\n",
    "    temp_model.to(device)\n",
    "\n",
    "    optimizer_temp = optim.Adam(temp_model.parameters(), lr=learning_rate, weight_decay=weight_decays)\n",
    "    criterion_temp = nn.CrossEntropyLoss(weight=torch.tensor([weight1, 1, 1, 1]).to(device))\n",
    "    \n",
    "    for epoch in range(epochs):\n",
    "        temp_model.train()\n",
    "        for inputs, labels in train_dataloader:\n",
    "            optimizer_temp.zero_grad()\n",
    "            outputs = temp_model(inputs)\n",
    "            loss = criterion_temp(outputs, labels)\n",
    "            loss.backward()\n",
    "            optimizer_temp.step()\n",
    "\n",
    "        # validation\n",
    "        temp_model.eval()\n",
    "        with torch.no_grad():\n",
    "            val_loss = 0.0\n",
    "            for inputs, labels in val_dataloader:\n",
    "                outputs = temp_model(inputs)\n",
    "                loss = criterion_temp(outputs, labels)\n",
    "                val_loss += loss.item()\n",
    "        trial.report(val_loss, epoch)\n",
    "\n",
    "    return val_loss        "
   ]
  },
  {
   "cell_type": "code",
   "execution_count": null,
   "metadata": {},
   "outputs": [],
   "source": [
    "study = optuna.create_study(direction='minimize')\n",
    "study.optimize(objective, n_trials=500)\n",
    "\n",
    "# Retrieve best hyperparameters\n",
    "best_params = study.best_params\n",
    "print(\"Best hyperparameters:\", best_params)"
   ]
  },
  {
   "cell_type": "code",
   "execution_count": 31,
   "metadata": {},
   "outputs": [],
   "source": [
    "def train(temp_model, criterion_temp, optimizer_temp,epochs=90):\n",
    "    for epoch in range(epochs):\n",
    "            temp_model.train()\n",
    "            for inputs, labels in train_dataloader:\n",
    "                optimizer_temp.zero_grad()\n",
    "                outputs = temp_model(inputs)\n",
    "                loss = criterion_temp(outputs, labels)\n",
    "                loss.backward()\n",
    "                optimizer_temp.step()\n",
    "            print(f'Epoch: {epoch+1}, Loss: {loss.item()}')\n",
    "\n",
    "            # validation\n",
    "            temp_model.eval()\n",
    "            with torch.no_grad():\n",
    "                val_loss = 0.0\n",
    "                for inputs, labels in val_dataloader:\n",
    "                    outputs = temp_model(inputs)\n",
    "                    loss = criterion_temp(outputs, labels)\n",
    "                    val_loss += loss.item()\n",
    "\n",
    "                print(f'Epoch: {epoch+1}, Validation Loss: {val_loss}')\n",
    "    return val_loss"
   ]
  },
  {
   "cell_type": "code",
   "execution_count": 40,
   "metadata": {},
   "outputs": [],
   "source": [
    "Best_hyperparameters = {'dropout_p': 0.40587686315948546, 'kernel1': 4, 'kernel2': 5, 'layer2': 46, 'weight_decays': 0.00019692647636609424, 'hidden_fc': 201, 'weight1': 1.9504249256178356, 'learning_rate': 4.854207245718259e-05}\n",
    "\n",
    "cnn_opt = CNN_simple(dropout_p=Best_hyperparameters['dropout_p'], kernel1=Best_hyperparameters['kernel1'], kernel2=Best_hyperparameters['kernel2'], layer1=12,\n",
    "                            layer2=Best_hyperparameters['layer2'], hidden_fc=Best_hyperparameters['hidden_fc'])\n",
    "cnn_opt.to(device)\n",
    "\n",
    "optimizer_opt = optim.Adam(cnn_opt.parameters(), lr=Best_hyperparameters['learning_rate'], weight_decay=Best_hyperparameters['weight_decays'])\n",
    "criterion_opt = nn.CrossEntropyLoss(weight=torch.tensor([Best_hyperparameters['weight1'], 1, 1, 1]).to(device))"
   ]
  },
  {
   "cell_type": "code",
   "execution_count": 41,
   "metadata": {},
   "outputs": [
    {
     "name": "stdout",
     "output_type": "stream",
     "text": [
      "Epoch: 1, Loss: 0.9366431832313538\n",
      "Epoch: 1, Validation Loss: 25.82208403944969\n",
      "Epoch: 2, Loss: 0.7078896760940552\n",
      "Epoch: 2, Validation Loss: 19.891244515776634\n",
      "Epoch: 3, Loss: 0.5151459574699402\n",
      "Epoch: 3, Validation Loss: 19.529102653265\n",
      "Epoch: 4, Loss: 0.4119729697704315\n",
      "Epoch: 4, Validation Loss: 20.95808844268322\n",
      "Epoch: 5, Loss: 0.28998681902885437\n",
      "Epoch: 5, Validation Loss: 20.758068680763245\n",
      "Epoch: 6, Loss: 0.41224098205566406\n",
      "Epoch: 6, Validation Loss: 22.61488652229309\n",
      "Epoch: 7, Loss: 0.5650665163993835\n",
      "Epoch: 7, Validation Loss: 23.393919445574284\n",
      "Epoch: 8, Loss: 0.40184780955314636\n",
      "Epoch: 8, Validation Loss: 23.558543860912323\n",
      "Epoch: 9, Loss: 0.29200080037117004\n",
      "Epoch: 9, Validation Loss: 23.19126655906439\n",
      "Epoch: 10, Loss: 0.47305285930633545\n",
      "Epoch: 10, Validation Loss: 23.69223991036415\n",
      "Epoch: 11, Loss: 0.3702627718448639\n",
      "Epoch: 11, Validation Loss: 24.077283643186092\n",
      "Epoch: 12, Loss: 0.37189507484436035\n",
      "Epoch: 12, Validation Loss: 23.598812229931355\n",
      "Epoch: 13, Loss: 0.32054513692855835\n",
      "Epoch: 13, Validation Loss: 23.459966763854027\n",
      "Epoch: 14, Loss: 0.27353814244270325\n",
      "Epoch: 14, Validation Loss: 22.201554633677006\n",
      "Epoch: 15, Loss: 0.42468488216400146\n",
      "Epoch: 15, Validation Loss: 23.61078042536974\n",
      "Epoch: 16, Loss: 0.2812372148036957\n",
      "Epoch: 16, Validation Loss: 24.31554303318262\n",
      "Epoch: 17, Loss: 0.2667568027973175\n",
      "Epoch: 17, Validation Loss: 24.0767869502306\n",
      "Epoch: 18, Loss: 0.1340208500623703\n",
      "Epoch: 18, Validation Loss: 22.475348122417927\n",
      "Epoch: 19, Loss: 0.17722629010677338\n",
      "Epoch: 19, Validation Loss: 23.18404220044613\n",
      "Epoch: 20, Loss: 0.23097185790538788\n",
      "Epoch: 20, Validation Loss: 23.39338717609644\n",
      "Epoch: 21, Loss: 0.25097739696502686\n",
      "Epoch: 21, Validation Loss: 23.182473063468933\n",
      "Epoch: 22, Loss: 0.1628027856349945\n",
      "Epoch: 22, Validation Loss: 23.368739545345306\n",
      "Epoch: 23, Loss: 0.2745278477668762\n",
      "Epoch: 23, Validation Loss: 23.1671344935894\n",
      "Epoch: 24, Loss: 0.2815603017807007\n",
      "Epoch: 24, Validation Loss: 22.736231364309788\n",
      "Epoch: 25, Loss: 0.23408542573451996\n",
      "Epoch: 25, Validation Loss: 22.46259716153145\n",
      "Epoch: 26, Loss: 0.19176723062992096\n",
      "Epoch: 26, Validation Loss: 21.709260568022728\n",
      "Epoch: 27, Loss: 0.39299580454826355\n",
      "Epoch: 27, Validation Loss: 21.677571810781956\n",
      "Epoch: 28, Loss: 0.11583178490400314\n",
      "Epoch: 28, Validation Loss: 22.180204786360264\n",
      "Epoch: 29, Loss: 0.19594264030456543\n",
      "Epoch: 29, Validation Loss: 21.918304219841957\n",
      "Epoch: 30, Loss: 0.30171290040016174\n",
      "Epoch: 30, Validation Loss: 22.434462442994118\n",
      "Epoch: 31, Loss: 0.18451660871505737\n",
      "Epoch: 31, Validation Loss: 22.208127588033676\n",
      "Epoch: 32, Loss: 0.2115623503923416\n",
      "Epoch: 32, Validation Loss: 21.582832396030426\n",
      "Epoch: 33, Loss: 0.23578862845897675\n",
      "Epoch: 33, Validation Loss: 21.781861416995525\n",
      "Epoch: 34, Loss: 0.19262100756168365\n",
      "Epoch: 34, Validation Loss: 20.986883141100407\n",
      "Epoch: 35, Loss: 0.10975263267755508\n",
      "Epoch: 35, Validation Loss: 21.01174757629633\n",
      "Epoch: 36, Loss: 0.2689721882343292\n",
      "Epoch: 36, Validation Loss: 20.846041433513165\n",
      "Epoch: 37, Loss: 0.20900198817253113\n",
      "Epoch: 37, Validation Loss: 20.49302062764764\n",
      "Epoch: 38, Loss: 0.34832918643951416\n",
      "Epoch: 38, Validation Loss: 18.812314994633198\n",
      "Epoch: 39, Loss: 0.33121925592422485\n",
      "Epoch: 39, Validation Loss: 19.02334436774254\n",
      "Epoch: 40, Loss: 0.19220049679279327\n",
      "Epoch: 40, Validation Loss: 19.45924500748515\n",
      "Epoch: 41, Loss: 0.16760404407978058\n",
      "Epoch: 41, Validation Loss: 19.274876940995455\n",
      "Epoch: 42, Loss: 0.1120113953948021\n",
      "Epoch: 42, Validation Loss: 18.716964937746525\n",
      "Epoch: 43, Loss: 0.2868196964263916\n",
      "Epoch: 43, Validation Loss: 19.73199201747775\n",
      "Epoch: 44, Loss: 0.24061162769794464\n",
      "Epoch: 44, Validation Loss: 18.587975822389126\n",
      "Epoch: 45, Loss: 0.1600625067949295\n",
      "Epoch: 45, Validation Loss: 18.836188536137342\n",
      "Epoch: 46, Loss: 0.2579289376735687\n",
      "Epoch: 46, Validation Loss: 19.101569764316082\n",
      "Epoch: 47, Loss: 0.3160420060157776\n",
      "Epoch: 47, Validation Loss: 19.28791569173336\n",
      "Epoch: 48, Loss: 0.28075695037841797\n",
      "Epoch: 48, Validation Loss: 18.330162782222033\n",
      "Epoch: 49, Loss: 0.23995862901210785\n",
      "Epoch: 49, Validation Loss: 19.375024136155844\n",
      "Epoch: 50, Loss: 0.19077926874160767\n",
      "Epoch: 50, Validation Loss: 19.02678206190467\n",
      "Epoch: 51, Loss: 0.31600221991539\n",
      "Epoch: 51, Validation Loss: 18.123863752931356\n",
      "Epoch: 52, Loss: 0.2937498688697815\n",
      "Epoch: 52, Validation Loss: 18.110160745680332\n",
      "Epoch: 53, Loss: 0.1503806859254837\n",
      "Epoch: 53, Validation Loss: 18.062666706740856\n",
      "Epoch: 54, Loss: 0.12528462707996368\n",
      "Epoch: 54, Validation Loss: 18.517098769545555\n",
      "Epoch: 55, Loss: 0.11548371613025665\n",
      "Epoch: 55, Validation Loss: 18.287236128002405\n",
      "Epoch: 56, Loss: 0.21401447057724\n",
      "Epoch: 56, Validation Loss: 16.880745738744736\n",
      "Epoch: 57, Loss: 0.09849667549133301\n",
      "Epoch: 57, Validation Loss: 17.80007055774331\n",
      "Epoch: 58, Loss: 0.24013350903987885\n",
      "Epoch: 58, Validation Loss: 17.12681533396244\n",
      "Epoch: 59, Loss: 0.1425173282623291\n",
      "Epoch: 59, Validation Loss: 17.355950627475977\n",
      "Epoch: 60, Loss: 0.1413968801498413\n",
      "Epoch: 60, Validation Loss: 17.133347503840923\n",
      "Epoch: 61, Loss: 0.16467052698135376\n",
      "Epoch: 61, Validation Loss: 17.2055378369987\n",
      "Epoch: 62, Loss: 0.12077222764492035\n",
      "Epoch: 62, Validation Loss: 16.496939972043037\n",
      "Epoch: 63, Loss: 0.20474489033222198\n",
      "Epoch: 63, Validation Loss: 16.260562635958195\n",
      "Epoch: 64, Loss: 0.1057056337594986\n",
      "Epoch: 64, Validation Loss: 17.382339738309383\n",
      "Epoch: 65, Loss: 0.19640469551086426\n",
      "Epoch: 65, Validation Loss: 16.352401543408632\n",
      "Epoch: 66, Loss: 0.14833882451057434\n",
      "Epoch: 66, Validation Loss: 16.371045030653477\n",
      "Epoch: 67, Loss: 0.19093723595142365\n",
      "Epoch: 67, Validation Loss: 16.778446063399315\n",
      "Epoch: 68, Loss: 0.12243912369012833\n",
      "Epoch: 68, Validation Loss: 16.170071057975292\n",
      "Epoch: 69, Loss: 0.09417463093996048\n",
      "Epoch: 69, Validation Loss: 15.692378427833319\n",
      "Epoch: 70, Loss: 0.14813633263111115\n",
      "Epoch: 70, Validation Loss: 15.918446768075228\n",
      "Epoch: 71, Loss: 0.10503099113702774\n",
      "Epoch: 71, Validation Loss: 16.25853742659092\n",
      "Epoch: 72, Loss: 0.13125593960285187\n",
      "Epoch: 72, Validation Loss: 16.114245161414146\n",
      "Epoch: 73, Loss: 0.18671220541000366\n",
      "Epoch: 73, Validation Loss: 15.430846996605396\n",
      "Epoch: 74, Loss: 0.17390599846839905\n",
      "Epoch: 74, Validation Loss: 15.628870282322168\n",
      "Epoch: 75, Loss: 0.10210473835468292\n",
      "Epoch: 75, Validation Loss: 15.23095217347145\n",
      "Epoch: 76, Loss: 0.10092784464359283\n",
      "Epoch: 76, Validation Loss: 16.89878697693348\n",
      "Epoch: 77, Loss: 0.16486521065235138\n",
      "Epoch: 77, Validation Loss: 15.449022494256496\n",
      "Epoch: 78, Loss: 0.21040448546409607\n",
      "Epoch: 78, Validation Loss: 15.327834572643042\n",
      "Epoch: 79, Loss: 0.15173761546611786\n",
      "Epoch: 79, Validation Loss: 14.480420786887407\n",
      "Epoch: 80, Loss: 0.17261871695518494\n",
      "Epoch: 80, Validation Loss: 15.850257020443678\n",
      "Epoch: 81, Loss: 0.11504430323839188\n",
      "Epoch: 81, Validation Loss: 15.695874754339457\n",
      "Epoch: 82, Loss: 0.12429621070623398\n",
      "Epoch: 82, Validation Loss: 15.101674288511276\n",
      "Epoch: 83, Loss: 0.29646018147468567\n",
      "Epoch: 83, Validation Loss: 14.894679993391037\n",
      "Epoch: 84, Loss: 0.21359235048294067\n",
      "Epoch: 84, Validation Loss: 14.432603009045124\n",
      "Epoch: 85, Loss: 0.13963866233825684\n",
      "Epoch: 85, Validation Loss: 15.717769674956799\n",
      "Epoch: 86, Loss: 0.11186657845973969\n",
      "Epoch: 86, Validation Loss: 15.163373462855816\n",
      "Epoch: 87, Loss: 0.15909722447395325\n",
      "Epoch: 87, Validation Loss: 14.567158680409193\n",
      "Epoch: 88, Loss: 0.106135793030262\n",
      "Epoch: 88, Validation Loss: 14.979290258139372\n",
      "Epoch: 89, Loss: 0.14748436212539673\n",
      "Epoch: 89, Validation Loss: 14.833424165844917\n",
      "Epoch: 90, Loss: 0.15752235054969788\n",
      "Epoch: 90, Validation Loss: 15.529348015785217\n",
      "Epoch: 91, Loss: 0.13582099974155426\n",
      "Epoch: 91, Validation Loss: 14.278631962835789\n",
      "Epoch: 92, Loss: 0.20291583240032196\n",
      "Epoch: 92, Validation Loss: 14.561088439077139\n",
      "Epoch: 93, Loss: 0.19800156354904175\n",
      "Epoch: 93, Validation Loss: 14.545523200184107\n",
      "Epoch: 94, Loss: 0.41215693950653076\n",
      "Epoch: 94, Validation Loss: 14.956797327846289\n",
      "Epoch: 95, Loss: 0.1576596349477768\n",
      "Epoch: 95, Validation Loss: 14.60269521549344\n",
      "Epoch: 96, Loss: 0.22255949676036835\n",
      "Epoch: 96, Validation Loss: 14.9748553968966\n",
      "Epoch: 97, Loss: 0.1167682409286499\n",
      "Epoch: 97, Validation Loss: 14.821748238056898\n",
      "Epoch: 98, Loss: 0.09538009762763977\n",
      "Epoch: 98, Validation Loss: 14.449929442256689\n",
      "Epoch: 99, Loss: 0.2620553970336914\n",
      "Epoch: 99, Validation Loss: 14.028785228729248\n",
      "Epoch: 100, Loss: 0.17589667439460754\n",
      "Epoch: 100, Validation Loss: 14.932419784367085\n",
      "Epoch: 101, Loss: 0.07603549212217331\n",
      "Epoch: 101, Validation Loss: 14.568834688514471\n",
      "Epoch: 102, Loss: 0.220045268535614\n",
      "Epoch: 102, Validation Loss: 14.888276275247335\n",
      "Epoch: 103, Loss: 0.21693509817123413\n",
      "Epoch: 103, Validation Loss: 14.140392005443573\n",
      "Epoch: 104, Loss: 0.06821035593748093\n",
      "Epoch: 104, Validation Loss: 14.772735603153706\n",
      "Epoch: 105, Loss: 0.10531152039766312\n",
      "Epoch: 105, Validation Loss: 14.0276462957263\n",
      "Epoch: 106, Loss: 0.12192527204751968\n",
      "Epoch: 106, Validation Loss: 13.904018942266703\n",
      "Epoch: 107, Loss: 0.1044892892241478\n",
      "Epoch: 107, Validation Loss: 14.350551307201385\n",
      "Epoch: 108, Loss: 0.12053322792053223\n",
      "Epoch: 108, Validation Loss: 14.087094988673925\n",
      "Epoch: 109, Loss: 0.2522110641002655\n",
      "Epoch: 109, Validation Loss: 15.446613494306803\n",
      "Epoch: 110, Loss: 0.105793796479702\n",
      "Epoch: 110, Validation Loss: 13.187769025564194\n",
      "Epoch: 111, Loss: 0.16713251173496246\n",
      "Epoch: 111, Validation Loss: 14.4735999815166\n",
      "Epoch: 112, Loss: 0.1642104834318161\n",
      "Epoch: 112, Validation Loss: 13.920286294072866\n",
      "Epoch: 113, Loss: 0.1594330221414566\n",
      "Epoch: 113, Validation Loss: 14.11247044801712\n",
      "Epoch: 114, Loss: 0.15867778658866882\n",
      "Epoch: 114, Validation Loss: 14.278398972004652\n",
      "Epoch: 115, Loss: 0.16820362210273743\n",
      "Epoch: 115, Validation Loss: 13.801460854709148\n",
      "Epoch: 116, Loss: 0.0859820544719696\n",
      "Epoch: 116, Validation Loss: 13.980030801147223\n",
      "Epoch: 117, Loss: 0.13509716093540192\n",
      "Epoch: 117, Validation Loss: 13.67811157926917\n",
      "Epoch: 118, Loss: 0.1150723248720169\n",
      "Epoch: 118, Validation Loss: 14.6500482596457\n",
      "Epoch: 119, Loss: 0.25832194089889526\n",
      "Epoch: 119, Validation Loss: 14.345046788454056\n",
      "Epoch: 120, Loss: 0.08086169511079788\n",
      "Epoch: 120, Validation Loss: 13.457404237240553\n",
      "Epoch: 121, Loss: 0.04915037751197815\n",
      "Epoch: 121, Validation Loss: 13.762639734894037\n",
      "Epoch: 122, Loss: 0.20356759428977966\n",
      "Epoch: 122, Validation Loss: 14.128286346793175\n",
      "Epoch: 123, Loss: 0.15182819962501526\n",
      "Epoch: 123, Validation Loss: 13.961499236524105\n",
      "Epoch: 124, Loss: 0.15988148748874664\n",
      "Epoch: 124, Validation Loss: 13.453951224684715\n",
      "Epoch: 125, Loss: 0.2727798819541931\n",
      "Epoch: 125, Validation Loss: 13.499656971544027\n",
      "Epoch: 126, Loss: 0.24071654677391052\n",
      "Epoch: 126, Validation Loss: 13.349293947219849\n",
      "Epoch: 127, Loss: 0.17258499562740326\n",
      "Epoch: 127, Validation Loss: 13.259941041469574\n",
      "Epoch: 128, Loss: 0.07024018466472626\n",
      "Epoch: 128, Validation Loss: 13.786848943680525\n",
      "Epoch: 129, Loss: 0.0527087040245533\n",
      "Epoch: 129, Validation Loss: 13.738923538476229\n",
      "Epoch: 130, Loss: 0.2805871367454529\n",
      "Epoch: 130, Validation Loss: 14.479490280151367\n",
      "Epoch: 131, Loss: 0.24093395471572876\n",
      "Epoch: 131, Validation Loss: 13.981054816395044\n",
      "Epoch: 132, Loss: 0.12770770490169525\n",
      "Epoch: 132, Validation Loss: 13.566183805465698\n",
      "Epoch: 133, Loss: 0.10166313499212265\n",
      "Epoch: 133, Validation Loss: 13.694049157202244\n",
      "Epoch: 134, Loss: 0.07700604945421219\n",
      "Epoch: 134, Validation Loss: 13.061923909932375\n",
      "Epoch: 135, Loss: 0.12066652625799179\n",
      "Epoch: 135, Validation Loss: 13.449522592127323\n",
      "Epoch: 136, Loss: 0.14176981151103973\n",
      "Epoch: 136, Validation Loss: 13.388465326279402\n",
      "Epoch: 137, Loss: 0.031696729362010956\n",
      "Epoch: 137, Validation Loss: 13.216713186353445\n",
      "Epoch: 138, Loss: 0.08965697884559631\n",
      "Epoch: 138, Validation Loss: 13.839939031749964\n",
      "Epoch: 139, Loss: 0.13023974001407623\n",
      "Epoch: 139, Validation Loss: 14.08896492049098\n",
      "Epoch: 140, Loss: 0.07640279084444046\n",
      "Epoch: 140, Validation Loss: 14.373857319355011\n",
      "Epoch: 141, Loss: 0.13217969238758087\n",
      "Epoch: 141, Validation Loss: 13.887091793119907\n",
      "Epoch: 142, Loss: 0.12744933366775513\n",
      "Epoch: 142, Validation Loss: 13.713750999420881\n",
      "Epoch: 143, Loss: 0.08840136975049973\n",
      "Epoch: 143, Validation Loss: 13.941809300333261\n",
      "Epoch: 144, Loss: 0.30385032296180725\n",
      "Epoch: 144, Validation Loss: 13.615881398320198\n",
      "Epoch: 145, Loss: 0.15672917664051056\n",
      "Epoch: 145, Validation Loss: 13.702160239219666\n",
      "Epoch: 146, Loss: 0.14783461391925812\n",
      "Epoch: 146, Validation Loss: 13.047475472092628\n",
      "Epoch: 147, Loss: 0.07281945645809174\n",
      "Epoch: 147, Validation Loss: 13.696583297103643\n",
      "Epoch: 148, Loss: 0.12761613726615906\n",
      "Epoch: 148, Validation Loss: 13.489336375147104\n",
      "Epoch: 149, Loss: 0.10440173000097275\n",
      "Epoch: 149, Validation Loss: 13.32131627574563\n",
      "Epoch: 150, Loss: 0.18188422918319702\n",
      "Epoch: 150, Validation Loss: 13.82545804604888\n",
      "Epoch: 151, Loss: 0.10344354808330536\n",
      "Epoch: 151, Validation Loss: 13.505414042621851\n",
      "Epoch: 152, Loss: 0.13692575693130493\n",
      "Epoch: 152, Validation Loss: 13.690967243164778\n",
      "Epoch: 153, Loss: 0.12844355404376984\n",
      "Epoch: 153, Validation Loss: 13.114742960780859\n",
      "Epoch: 154, Loss: 0.08165861666202545\n",
      "Epoch: 154, Validation Loss: 13.409514036029577\n",
      "Epoch: 155, Loss: 0.11754872649908066\n",
      "Epoch: 155, Validation Loss: 13.161137524992228\n",
      "Epoch: 156, Loss: 0.0706137865781784\n",
      "Epoch: 156, Validation Loss: 13.29309668391943\n",
      "Epoch: 157, Loss: 0.08038370311260223\n",
      "Epoch: 157, Validation Loss: 13.236358009278774\n",
      "Epoch: 158, Loss: 0.056873977184295654\n",
      "Epoch: 158, Validation Loss: 13.483569547533989\n",
      "Epoch: 159, Loss: 0.10312820971012115\n",
      "Epoch: 159, Validation Loss: 13.622785650193691\n",
      "Epoch: 160, Loss: 0.20888017117977142\n",
      "Epoch: 160, Validation Loss: 13.236842304468155\n",
      "Epoch: 161, Loss: 0.06480174511671066\n",
      "Epoch: 161, Validation Loss: 13.208833917975426\n",
      "Epoch: 162, Loss: 0.10714001208543777\n",
      "Epoch: 162, Validation Loss: 12.946216031908989\n",
      "Epoch: 163, Loss: 0.054385170340538025\n",
      "Epoch: 163, Validation Loss: 13.732618860900402\n",
      "Epoch: 164, Loss: 0.05651412159204483\n",
      "Epoch: 164, Validation Loss: 13.612002275884151\n",
      "Epoch: 165, Loss: 0.09609123319387436\n",
      "Epoch: 165, Validation Loss: 13.34246164187789\n",
      "Epoch: 166, Loss: 0.07139337807893753\n",
      "Epoch: 166, Validation Loss: 13.114969562739134\n",
      "Epoch: 167, Loss: 0.05972786620259285\n",
      "Epoch: 167, Validation Loss: 13.5016432069242\n",
      "Epoch: 168, Loss: 0.10536790639162064\n",
      "Epoch: 168, Validation Loss: 13.122246984392405\n",
      "Epoch: 169, Loss: 0.3018372654914856\n",
      "Epoch: 169, Validation Loss: 13.783929131925106\n",
      "Epoch: 170, Loss: 0.11147647351026535\n",
      "Epoch: 170, Validation Loss: 13.147139675915241\n",
      "Epoch: 171, Loss: 0.1076861321926117\n",
      "Epoch: 171, Validation Loss: 12.847860727459192\n",
      "Epoch: 172, Loss: 0.14470207691192627\n",
      "Epoch: 172, Validation Loss: 13.241167221218348\n",
      "Epoch: 173, Loss: 0.12802797555923462\n",
      "Epoch: 173, Validation Loss: 13.32521978020668\n",
      "Epoch: 174, Loss: 0.3076494634151459\n",
      "Epoch: 174, Validation Loss: 13.183245301246643\n",
      "Epoch: 175, Loss: 0.13147418200969696\n",
      "Epoch: 175, Validation Loss: 13.136230863630772\n",
      "Epoch: 176, Loss: 0.12576590478420258\n",
      "Epoch: 176, Validation Loss: 13.164509505033493\n",
      "Epoch: 177, Loss: 0.11643121391534805\n",
      "Epoch: 177, Validation Loss: 13.037519659847021\n",
      "Epoch: 178, Loss: 0.0756329596042633\n",
      "Epoch: 178, Validation Loss: 13.06833891570568\n",
      "Epoch: 179, Loss: 0.10476633161306381\n",
      "Epoch: 179, Validation Loss: 12.349801730364561\n",
      "Epoch: 180, Loss: 0.16271480917930603\n",
      "Epoch: 180, Validation Loss: 13.312417682260275\n",
      "Epoch: 181, Loss: 0.07326456159353256\n",
      "Epoch: 181, Validation Loss: 13.28226126357913\n",
      "Epoch: 182, Loss: 0.08965880423784256\n",
      "Epoch: 182, Validation Loss: 13.65472137182951\n",
      "Epoch: 183, Loss: 0.08222679048776627\n",
      "Epoch: 183, Validation Loss: 13.586771842092276\n",
      "Epoch: 184, Loss: 0.08674082159996033\n",
      "Epoch: 184, Validation Loss: 13.32277462258935\n",
      "Epoch: 185, Loss: 0.10260374844074249\n",
      "Epoch: 185, Validation Loss: 13.326921179890633\n",
      "Epoch: 186, Loss: 0.07893344759941101\n",
      "Epoch: 186, Validation Loss: 13.659490991383791\n",
      "Epoch: 187, Loss: 0.07128670811653137\n",
      "Epoch: 187, Validation Loss: 13.264004424214363\n",
      "Epoch: 188, Loss: 0.08989135175943375\n",
      "Epoch: 188, Validation Loss: 13.319981761276722\n",
      "Epoch: 189, Loss: 0.11102652549743652\n",
      "Epoch: 189, Validation Loss: 13.360990799963474\n",
      "Epoch: 190, Loss: 0.1512637734413147\n",
      "Epoch: 190, Validation Loss: 13.488347943872213\n",
      "Epoch: 191, Loss: 0.06938182562589645\n",
      "Epoch: 191, Validation Loss: 13.218614183366299\n",
      "Epoch: 192, Loss: 0.1511630415916443\n",
      "Epoch: 192, Validation Loss: 13.604723565280437\n",
      "Epoch: 193, Loss: 0.0927087739109993\n",
      "Epoch: 193, Validation Loss: 13.358119331300259\n",
      "Epoch: 194, Loss: 0.04087257385253906\n",
      "Epoch: 194, Validation Loss: 12.987299617379904\n",
      "Epoch: 195, Loss: 0.12274610996246338\n",
      "Epoch: 195, Validation Loss: 13.217012196779251\n",
      "Epoch: 196, Loss: 0.05416470021009445\n",
      "Epoch: 196, Validation Loss: 13.70439039170742\n",
      "Epoch: 197, Loss: 0.13648007810115814\n",
      "Epoch: 197, Validation Loss: 12.911090571433306\n",
      "Epoch: 198, Loss: 0.1673181653022766\n",
      "Epoch: 198, Validation Loss: 13.660565689206123\n",
      "Epoch: 199, Loss: 0.0741368904709816\n",
      "Epoch: 199, Validation Loss: 13.72150843963027\n",
      "Epoch: 200, Loss: 0.15068989992141724\n",
      "Epoch: 200, Validation Loss: 13.2565824277699\n"
     ]
    },
    {
     "data": {
      "text/plain": [
       "13.2565824277699"
      ]
     },
     "execution_count": 41,
     "metadata": {},
     "output_type": "execute_result"
    }
   ],
   "source": [
    "train(cnn_opt, criterion_opt, optimizer_opt, epochs=200)"
   ]
  },
  {
   "cell_type": "code",
   "execution_count": 42,
   "metadata": {},
   "outputs": [
    {
     "name": "stdout",
     "output_type": "stream",
     "text": [
      "Accuracy: 0.987040729136998\n",
      " Bal Acc: 0.987040729136998\n",
      "\n"
     ]
    },
    {
     "data": {
      "image/png": "[encoded data removed]",
      "text/plain": [
       "<Figure size 640x480 with 2 Axes>"
      ]
     },
     "metadata": {},
     "output_type": "display_data"
    }
   ],
   "source": [
    "cm(yw_train, cnn_opt(train_dataset.tensors[0].to(device)).argmax(1).cpu().numpy())"
   ]
  },
  {
   "cell_type": "code",
   "execution_count": 43,
   "metadata": {},
   "outputs": [
    {
     "name": "stdout",
     "output_type": "stream",
     "text": [
      "Accuracy: 0.8339731285988484\n",
      " Bal Acc: 0.843407856301841\n",
      "\n"
     ]
    },
    {
     "data": {
      "image/png": "[encoded data removed]",
      "text/plain": [
       "<Figure size 640x480 with 2 Axes>"
      ]
     },
     "metadata": {},
     "output_type": "display_data"
    }
   ],
   "source": [
    "cm(yw_val, cnn_opt(val_dataset.tensors[0].to(device)).argmax(1).cpu().numpy())"
   ]
  },
  {
   "cell_type": "markdown",
   "metadata": {},
   "source": [
    "## Testing"
   ]
  },
  {
   "cell_type": "code",
   "execution_count": 51,
   "metadata": {},
   "outputs": [
    {
     "name": "stderr",
     "output_type": "stream",
     "text": [
      "/home/gathomp3/Deep_Learning/NNs/fncs.py:11: RuntimeWarning: invalid value encountered in cast\n",
      "  yv = y[:,1].astype(int)\n"
     ]
    }
   ],
   "source": [
    "# Specifying the data directory\n",
    "dirTest = './GaitData/data/test/'\n",
    "testIds = [1,2,3,4]\n",
    "\n",
    "Xw_test1, _, xt_test1, yt_test1 = loadWindows(dirTest,window_size,time_step,[1])\n",
    "Xw_test2, _, xt_test2, yt_test2 = loadWindows(dirTest,window_size,time_step,[2])\n",
    "Xw_test3, _, xt_test3, yt_test3 = loadWindows(dirTest,window_size,time_step,[3])\n",
    "Xw_test4, _, xt_test4, yt_test4 = loadWindows(dirTest,window_size,time_step,[4])\n"
   ]
  },
  {
   "cell_type": "markdown",
   "metadata": {},
   "source": [
    "Using tuned CNN"
   ]
  },
  {
   "cell_type": "code",
   "execution_count": 70,
   "metadata": {},
   "outputs": [],
   "source": [
    "Xw_test1 = transform(Xw_test1)\n",
    "Xw_test2 = transform(Xw_test2)\n",
    "Xw_test3 = transform(Xw_test3)\n",
    "Xw_test4 = transform(Xw_test4)\n",
    "\n",
    "with torch.no_grad():\n",
    "    y1_hat = cnn_opt.model(Xw_test1)\n",
    "    y2_hat = cnn_opt.model(Xw_test2)\n",
    "    y3_hat = cnn_opt.model(Xw_test3)\n",
    "    y4_hat = cnn_opt.model(Xw_test4)\n",
    "\n",
    "y1_hat = y1_hat.argmax(1).cpu().numpy()\n",
    "y2_hat = y2_hat.argmax(1).cpu().numpy()\n",
    "y3_hat = y3_hat.argmax(1).cpu().numpy()\n",
    "y4_hat = y4_hat.argmax(1).cpu().numpy()"
   ]
  },
  {
   "cell_type": "code",
   "execution_count": 71,
   "metadata": {},
   "outputs": [],
   "source": [
    "import pandas as pd\n",
    "\n",
    "# Read columns to be filled\n",
    "\n",
    "df1nan = pd.read_csv(dirTest + f'Trial01_y.csv',header=None)\n",
    "df1nan.columns = ['time','label']\n",
    "df1nan['time'] = df1nan['time'].round(2)\n",
    "\n",
    "df2nan = pd.read_csv(dirTest + f'Trial02_y.csv',header=None)\n",
    "df2nan.columns = ['time','label']\n",
    "df2nan['time'] = df2nan['time'].round(2)\n",
    "\n",
    "df3nan = pd.read_csv(dirTest + f'Trial03_y.csv',header=None)\n",
    "df3nan.columns = ['time','label']\n",
    "df3nan['time'] = df3nan['time'].round(2)\n",
    "\n",
    "df4nan = pd.read_csv(dirTest + f'Trial04_y.csv',header=None)\n",
    "df4nan.columns = ['time','label']\n",
    "df4nan['time'] = df4nan['time'].round(2)\n"
   ]
  },
  {
   "cell_type": "code",
   "execution_count": 72,
   "metadata": {},
   "outputs": [
    {
     "data": {
      "text/html": [
       "<div>\n",
       "<style scoped>\n",
       "    .dataframe tbody tr th:only-of-type {\n",
       "        vertical-align: middle;\n",
       "    }\n",
       "\n",
       "    .dataframe tbody tr th {\n",
       "        vertical-align: top;\n",
       "    }\n",
       "\n",
       "    .dataframe thead th {\n",
       "        text-align: right;\n",
       "    }\n",
       "</style>\n",
       "<table border=\"1\" class=\"dataframe\">\n",
       "  <thead>\n",
       "    <tr style=\"text-align: right;\">\n",
       "      <th></th>\n",
       "      <th>time</th>\n",
       "      <th>label</th>\n",
       "    </tr>\n",
       "  </thead>\n",
       "  <tbody>\n",
       "    <tr>\n",
       "      <th>0</th>\n",
       "      <td>0.02</td>\n",
       "      <td>NaN</td>\n",
       "    </tr>\n",
       "    <tr>\n",
       "      <th>1</th>\n",
       "      <td>0.12</td>\n",
       "      <td>NaN</td>\n",
       "    </tr>\n",
       "    <tr>\n",
       "      <th>2</th>\n",
       "      <td>0.22</td>\n",
       "      <td>NaN</td>\n",
       "    </tr>\n",
       "    <tr>\n",
       "      <th>3</th>\n",
       "      <td>0.32</td>\n",
       "      <td>NaN</td>\n",
       "    </tr>\n",
       "    <tr>\n",
       "      <th>4</th>\n",
       "      <td>0.42</td>\n",
       "      <td>NaN</td>\n",
       "    </tr>\n",
       "    <tr>\n",
       "      <th>...</th>\n",
       "      <td>...</td>\n",
       "      <td>...</td>\n",
       "    </tr>\n",
       "    <tr>\n",
       "      <th>9493</th>\n",
       "      <td>949.32</td>\n",
       "      <td>NaN</td>\n",
       "    </tr>\n",
       "    <tr>\n",
       "      <th>9494</th>\n",
       "      <td>949.42</td>\n",
       "      <td>NaN</td>\n",
       "    </tr>\n",
       "    <tr>\n",
       "      <th>9495</th>\n",
       "      <td>949.52</td>\n",
       "      <td>NaN</td>\n",
       "    </tr>\n",
       "    <tr>\n",
       "      <th>9496</th>\n",
       "      <td>949.62</td>\n",
       "      <td>NaN</td>\n",
       "    </tr>\n",
       "    <tr>\n",
       "      <th>9497</th>\n",
       "      <td>949.72</td>\n",
       "      <td>NaN</td>\n",
       "    </tr>\n",
       "  </tbody>\n",
       "</table>\n",
       "<p>9498 rows × 2 columns</p>\n",
       "</div>"
      ],
      "text/plain": [
       "        time  label\n",
       "0       0.02    NaN\n",
       "1       0.12    NaN\n",
       "2       0.22    NaN\n",
       "3       0.32    NaN\n",
       "4       0.42    NaN\n",
       "...      ...    ...\n",
       "9493  949.32    NaN\n",
       "9494  949.42    NaN\n",
       "9495  949.52    NaN\n",
       "9496  949.62    NaN\n",
       "9497  949.72    NaN\n",
       "\n",
       "[9498 rows x 2 columns]"
      ]
     },
     "execution_count": 72,
     "metadata": {},
     "output_type": "execute_result"
    }
   ],
   "source": [
    "df4nan"
   ]
  },
  {
   "cell_type": "code",
   "execution_count": 73,
   "metadata": {},
   "outputs": [],
   "source": [
    "def concat_time_to_labels(ytimes, ylabels):\n",
    "    df_y = pd.concat([pd.DataFrame(ytimes), pd.DataFrame(ylabels)], axis=1)\n",
    "    df_y.columns = ['time', 'label']\n",
    "    return df_y\n",
    "\n",
    "# Rounding times for outer join later\n",
    "y1_timelabels = concat_time_to_labels(yt_test1, y1_hat)\n",
    "y1_timelabels[\"time\"] = y1_timelabels[\"time\"].round(2)\n",
    "\n",
    "y2_timelabels = concat_time_to_labels(yt_test2, y2_hat)\n",
    "y2_timelabels[\"time\"] = y2_timelabels[\"time\"].round(2)\n",
    "\n",
    "y3_timelabels = concat_time_to_labels(yt_test3, y3_hat)\n",
    "y3_timelabels[\"time\"] = y3_timelabels[\"time\"].round(2)\n",
    "\n",
    "y4_timelabels = concat_time_to_labels(yt_test4, y4_hat)\n",
    "y4_timelabels[\"time\"] = y4_timelabels[\"time\"].round(2)"
   ]
  },
  {
   "cell_type": "code",
   "execution_count": 75,
   "metadata": {},
   "outputs": [
    {
     "data": {
      "text/html": [
       "<div>\n",
       "<style scoped>\n",
       "    .dataframe tbody tr th:only-of-type {\n",
       "        vertical-align: middle;\n",
       "    }\n",
       "\n",
       "    .dataframe tbody tr th {\n",
       "        vertical-align: top;\n",
       "    }\n",
       "\n",
       "    .dataframe thead th {\n",
       "        text-align: right;\n",
       "    }\n",
       "</style>\n",
       "<table border=\"1\" class=\"dataframe\">\n",
       "  <thead>\n",
       "    <tr style=\"text-align: right;\">\n",
       "      <th></th>\n",
       "      <th>time</th>\n",
       "      <th>label</th>\n",
       "    </tr>\n",
       "  </thead>\n",
       "  <tbody>\n",
       "    <tr>\n",
       "      <th>942</th>\n",
       "      <td>943.52</td>\n",
       "      <td>0</td>\n",
       "    </tr>\n",
       "    <tr>\n",
       "      <th>943</th>\n",
       "      <td>944.52</td>\n",
       "      <td>0</td>\n",
       "    </tr>\n",
       "    <tr>\n",
       "      <th>944</th>\n",
       "      <td>945.52</td>\n",
       "      <td>0</td>\n",
       "    </tr>\n",
       "    <tr>\n",
       "      <th>945</th>\n",
       "      <td>946.52</td>\n",
       "      <td>0</td>\n",
       "    </tr>\n",
       "    <tr>\n",
       "      <th>946</th>\n",
       "      <td>947.52</td>\n",
       "      <td>0</td>\n",
       "    </tr>\n",
       "  </tbody>\n",
       "</table>\n",
       "</div>"
      ],
      "text/plain": [
       "       time  label\n",
       "942  943.52      0\n",
       "943  944.52      0\n",
       "944  945.52      0\n",
       "945  946.52      0\n",
       "946  947.52      0"
      ]
     },
     "execution_count": 75,
     "metadata": {},
     "output_type": "execute_result"
    }
   ],
   "source": [
    "y4_timelabels.tail()"
   ]
  },
  {
   "cell_type": "markdown",
   "metadata": {},
   "source": [
    "Now, I need to interpolate values between times"
   ]
  },
  {
   "cell_type": "code",
   "execution_count": 76,
   "metadata": {},
   "outputs": [
    {
     "data": {
      "text/html": [
       "<div>\n",
       "<style scoped>\n",
       "    .dataframe tbody tr th:only-of-type {\n",
       "        vertical-align: middle;\n",
       "    }\n",
       "\n",
       "    .dataframe tbody tr th {\n",
       "        vertical-align: top;\n",
       "    }\n",
       "\n",
       "    .dataframe thead th {\n",
       "        text-align: right;\n",
       "    }\n",
       "</style>\n",
       "<table border=\"1\" class=\"dataframe\">\n",
       "  <thead>\n",
       "    <tr style=\"text-align: right;\">\n",
       "      <th></th>\n",
       "      <th>time</th>\n",
       "      <th>label</th>\n",
       "    </tr>\n",
       "  </thead>\n",
       "  <tbody>\n",
       "    <tr>\n",
       "      <th>0</th>\n",
       "      <td>0.02</td>\n",
       "      <td>NaN</td>\n",
       "    </tr>\n",
       "    <tr>\n",
       "      <th>1</th>\n",
       "      <td>0.12</td>\n",
       "      <td>NaN</td>\n",
       "    </tr>\n",
       "    <tr>\n",
       "      <th>2</th>\n",
       "      <td>0.22</td>\n",
       "      <td>NaN</td>\n",
       "    </tr>\n",
       "    <tr>\n",
       "      <th>3</th>\n",
       "      <td>0.32</td>\n",
       "      <td>NaN</td>\n",
       "    </tr>\n",
       "    <tr>\n",
       "      <th>4</th>\n",
       "      <td>0.42</td>\n",
       "      <td>NaN</td>\n",
       "    </tr>\n",
       "    <tr>\n",
       "      <th>...</th>\n",
       "      <td>...</td>\n",
       "      <td>...</td>\n",
       "    </tr>\n",
       "    <tr>\n",
       "      <th>8572</th>\n",
       "      <td>857.22</td>\n",
       "      <td>NaN</td>\n",
       "    </tr>\n",
       "    <tr>\n",
       "      <th>8573</th>\n",
       "      <td>857.32</td>\n",
       "      <td>NaN</td>\n",
       "    </tr>\n",
       "    <tr>\n",
       "      <th>8574</th>\n",
       "      <td>857.42</td>\n",
       "      <td>NaN</td>\n",
       "    </tr>\n",
       "    <tr>\n",
       "      <th>8575</th>\n",
       "      <td>857.52</td>\n",
       "      <td>NaN</td>\n",
       "    </tr>\n",
       "    <tr>\n",
       "      <th>8576</th>\n",
       "      <td>857.62</td>\n",
       "      <td>NaN</td>\n",
       "    </tr>\n",
       "  </tbody>\n",
       "</table>\n",
       "<p>8577 rows × 2 columns</p>\n",
       "</div>"
      ],
      "text/plain": [
       "        time  label\n",
       "0       0.02    NaN\n",
       "1       0.12    NaN\n",
       "2       0.22    NaN\n",
       "3       0.32    NaN\n",
       "4       0.42    NaN\n",
       "...      ...    ...\n",
       "8572  857.22    NaN\n",
       "8573  857.32    NaN\n",
       "8574  857.42    NaN\n",
       "8575  857.52    NaN\n",
       "8576  857.62    NaN\n",
       "\n",
       "[8577 rows x 2 columns]"
      ]
     },
     "execution_count": 76,
     "metadata": {},
     "output_type": "execute_result"
    }
   ],
   "source": [
    "df1nan"
   ]
  },
  {
   "cell_type": "code",
   "execution_count": 77,
   "metadata": {},
   "outputs": [],
   "source": [
    "def interpolate_labels(y_timelabels, dfnan):\n",
    "    merged_df = pd.merge(y_timelabels, dfnan, on='time', how='outer', suffixes=('_1sec', '_01sec'))\n",
    "\n",
    "    # Step 2: Forward fill to propagate the last known categorical label\n",
    "    merged_df['label'] = merged_df['label_1sec'].fillna(method='ffill')\n",
    "\n",
    "    # Step 3: Backward fill to propagate the first known categorical label\n",
    "    merged_df['label'] = merged_df['label'].fillna(method='bfill')\n",
    "\n",
    "    # Drop redundant columns\n",
    "    merged_df.drop(['label_1sec', 'label_01sec'], axis=1, inplace=True)\n",
    "\n",
    "    # Final DataFrame with interpolated categorical labels\n",
    "    final_df = merged_df[['time', 'label']]\n",
    "    return final_df"
   ]
  },
  {
   "cell_type": "code",
   "execution_count": 96,
   "metadata": {},
   "outputs": [
    {
     "name": "stderr",
     "output_type": "stream",
     "text": [
      "/tmp/ipykernel_134224/3767688155.py:5: FutureWarning: Series.fillna with 'method' is deprecated and will raise in a future version. Use obj.ffill() or obj.bfill() instead.\n",
      "  merged_df['label'] = merged_df['label_1sec'].fillna(method='ffill')\n",
      "/tmp/ipykernel_134224/3767688155.py:8: FutureWarning: Series.fillna with 'method' is deprecated and will raise in a future version. Use obj.ffill() or obj.bfill() instead.\n",
      "  merged_df['label'] = merged_df['label'].fillna(method='bfill')\n",
      "/tmp/ipykernel_134224/3767688155.py:5: FutureWarning: Series.fillna with 'method' is deprecated and will raise in a future version. Use obj.ffill() or obj.bfill() instead.\n",
      "  merged_df['label'] = merged_df['label_1sec'].fillna(method='ffill')\n",
      "/tmp/ipykernel_134224/3767688155.py:8: FutureWarning: Series.fillna with 'method' is deprecated and will raise in a future version. Use obj.ffill() or obj.bfill() instead.\n",
      "  merged_df['label'] = merged_df['label'].fillna(method='bfill')\n",
      "/tmp/ipykernel_134224/3767688155.py:5: FutureWarning: Series.fillna with 'method' is deprecated and will raise in a future version. Use obj.ffill() or obj.bfill() instead.\n",
      "  merged_df['label'] = merged_df['label_1sec'].fillna(method='ffill')\n",
      "/tmp/ipykernel_134224/3767688155.py:8: FutureWarning: Series.fillna with 'method' is deprecated and will raise in a future version. Use obj.ffill() or obj.bfill() instead.\n",
      "  merged_df['label'] = merged_df['label'].fillna(method='bfill')\n",
      "/tmp/ipykernel_134224/3767688155.py:5: FutureWarning: Series.fillna with 'method' is deprecated and will raise in a future version. Use obj.ffill() or obj.bfill() instead.\n",
      "  merged_df['label'] = merged_df['label_1sec'].fillna(method='ffill')\n",
      "/tmp/ipykernel_134224/3767688155.py:8: FutureWarning: Series.fillna with 'method' is deprecated and will raise in a future version. Use obj.ffill() or obj.bfill() instead.\n",
      "  merged_df['label'] = merged_df['label'].fillna(method='bfill')\n"
     ]
    }
   ],
   "source": [
    "y1_final = interpolate_labels(y1_timelabels, df1nan)\n",
    "y2_final = interpolate_labels(y2_timelabels, df2nan)\n",
    "y3_final = interpolate_labels(y3_timelabels, df3nan)\n",
    "y4_final = interpolate_labels(y4_timelabels, df4nan)"
   ]
  },
  {
   "cell_type": "code",
   "execution_count": 97,
   "metadata": {},
   "outputs": [],
   "source": [
    "'''\n",
    "save_path = f\"./GaitData/data/saved_data/Trial01_y.csv\"\n",
    "y1_final.to_csv(save_path, index=False, header=False)\n",
    "\n",
    "save_path = f\"./GaitData/data/saved_data/Trial02_y.csv\"\n",
    "y2_final.to_csv(save_path, index=False, header=False)\n",
    "\n",
    "save_path = f\"./GaitData/data/saved_data/Trial03_y.csv\"\n",
    "y3_final.to_csv(save_path, index=False, header=False)\n",
    "\n",
    "save_path = f\"./GaitData/data/saved_data/Trial04_y.csv\"\n",
    "y4_final.to_csv(save_path, index=False, header=False)\n",
    "'''"
   ]
  },
  {
   "cell_type": "code",
   "execution_count": null,
   "metadata": {},
   "outputs": [],
   "source": []
  }
 ],
 "metadata": {
  "kernelspec": {
   "display_name": "DiffusionEnv",
   "language": "python",
   "name": "python3"
  },
  "language_info": {
   "codemirror_mode": {
    "name": "ipython",
    "version": 3
   },
   "file_extension": ".py",
   "mimetype": "text/x-python",
   "name": "python",
   "nbconvert_exporter": "python",
   "pygments_lexer": "ipython3",
   "version": "3.12.2"
  }
 },
 "nbformat": 4,
 "nbformat_minor": 2
}
