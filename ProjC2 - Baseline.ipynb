{
 "cells": [
  {
   "cell_type": "markdown",
   "metadata": {
    "deletable": false,
    "editable": false,
    "id": "bHw2XgHzmQhX",
    "nbgrader": {
     "grade": false,
     "locked": true,
     "solution": false
    }
   },
   "source": [
    "## Creating a Baseline\n",
    "\n",
    "This script will walk you through the creating of a baseline model for the data."
   ]
  },
  {
   "cell_type": "code",
   "execution_count": 1,
   "metadata": {
    "colab": {
     "base_uri": "https://localhost:8080/"
    },
    "deletable": false,
    "editable": false,
    "executionInfo": {
     "elapsed": 1843,
     "status": "ok",
     "timestamp": 1711034777901,
     "user": {
      "displayName": "Edgar Lobaton",
      "userId": "02856608958118334478"
     },
     "user_tz": 240
    },
    "id": "lM2Ii3T1mQha",
    "nbgrader": {
     "grade": false,
     "locked": true,
     "solution": false
    },
    "outputId": "2c78b9ec-e84d-4e56-c8a6-3f95e67da126"
   },
   "outputs": [
    {
     "data": {
      "text/plain": [
       "<module 'fncs' from '/home/gathomp3/Deep_Learning/NNs/fncs.py'>"
      ]
     },
     "execution_count": 1,
     "metadata": {},
     "output_type": "execute_result"
    }
   ],
   "source": [
    "import numpy as np\n",
    "import importlib\n",
    "import fncs\n",
    "import matplotlib.pyplot as plt\n",
    "import random\n",
    "\n",
    "importlib.reload(fncs)"
   ]
  },
  {
   "cell_type": "markdown",
   "metadata": {
    "deletable": false,
    "editable": false,
    "nbgrader": {
     "grade": false,
     "locked": true,
     "solution": false
    }
   },
   "source": [
    "The variable below is used to specify if we are running this script for a submission for grading or not. If you set it to `True`, it will skip a lot of executions so it runs faster during grading. You will want to leave this as `False` while you debug your code and complete the assignment."
   ]
  },
  {
   "cell_type": "code",
   "execution_count": 2,
   "metadata": {},
   "outputs": [],
   "source": [
    "SUBMISSION = False"
   ]
  },
  {
   "cell_type": "markdown",
   "metadata": {
    "deletable": false,
    "editable": false,
    "id": "heZK31KGmQhc",
    "nbgrader": {
     "grade": false,
     "locked": true,
     "solution": false
    }
   },
   "source": [
    "### Loading the Data and Features\n",
    "\n",
    "First, we define a helper function to load the data and compute the features. Take a look at how the labels are extracted by following a similar procedure for window extraction and assigning the mode."
   ]
  },
  {
   "cell_type": "code",
   "execution_count": 3,
   "metadata": {
    "deletable": false,
    "editable": false,
    "executionInfo": {
     "elapsed": 206,
     "status": "ok",
     "timestamp": 1711034779949,
     "user": {
      "displayName": "Edgar Lobaton",
      "userId": "02856608958118334478"
     },
     "user_tz": 240
    },
    "id": "C6RI-e2smQhc",
    "nbgrader": {
     "grade": false,
     "locked": true,
     "solution": false
    }
   },
   "outputs": [],
   "source": [
    "# It loads the data and extracts the features\n",
    "def loadFeatures(dataFolder,winSz,timeStep,idList):\n",
    "    for k,id in enumerate(idList):\n",
    "        # Loading the raw data\n",
    "        xt, xv, yt, yv = fncs.loadTrial(dataFolder,id=id)\n",
    "\n",
    "        # Extracting the time window for which we have values for the measurements and the response\n",
    "        timeStart = np.max((np.min(xt),np.min(yt)))\n",
    "        timeEnd = np.min((np.max(xt),np.max(yt)))\n",
    "\n",
    "        # Extracting the features\n",
    "        _, feat = fncs.extractFeat(xt,xv,winSz,timeStart,timeEnd,timeStep)\n",
    "        _, lab = fncs.extractLabel(yt,yv,winSz,timeStart,timeEnd,timeStep)\n",
    "\n",
    "        # Storing the features\n",
    "        if(k==0):\n",
    "            featList = feat\n",
    "            labList = lab\n",
    "        else:\n",
    "            featList = np.concatenate((featList,feat),axis=0)\n",
    "            labList = np.concatenate((labList,lab),axis=0)\n",
    "\n",
    "    return featList, labList"
   ]
  },
  {
   "cell_type": "markdown",
   "metadata": {
    "deletable": false,
    "editable": false,
    "nbgrader": {
     "grade": false,
     "locked": true,
     "solution": false
    }
   },
   "source": [
    "Extracting the features for the training data and splitting it into training / validation."
   ]
  },
  {
   "cell_type": "code",
   "execution_count": 4,
   "metadata": {
    "deletable": false,
    "editable": false,
    "executionInfo": {
     "elapsed": 75965,
     "status": "ok",
     "timestamp": 1711034858184,
     "user": {
      "displayName": "Edgar Lobaton",
      "userId": "02856608958118334478"
     },
     "user_tz": 240
    },
    "id": "wKG6uX6tmQhc",
    "nbgrader": {
     "grade": false,
     "locked": true,
     "solution": false
    }
   },
   "outputs": [],
   "source": [
    "# Specifying the data directory\n",
    "dirTrain = '../data/train/'\n",
    "\n",
    "# Specifying some parameters for the feature extraction\n",
    "timeStep = 1\n",
    "winSz = 2\n",
    "\n",
    "# Specifying IDs for training and validation sets\n",
    "valIDs = [2,11,25]\n",
    "trainIDs = list(set(np.array(range(29))+1).difference(valIDs))\n",
    "\n",
    "# Recovering the features and labels\n",
    "xTrain, yTrain = loadFeatures(dirTrain,winSz,timeStep,trainIDs)\n",
    "xVal, yVal = loadFeatures(dirTrain,winSz,timeStep,valIDs)"
   ]
  },
  {
   "cell_type": "markdown",
   "metadata": {},
   "source": [
    "### Understanding the Data"
   ]
  },
  {
   "cell_type": "code",
   "execution_count": 10,
   "metadata": {},
   "outputs": [
    {
     "data": {
      "text/plain": [
       "array([[4.45908339e+00, 8.27558486e+00, 2.90135680e+00, ...,\n",
       "        8.93462609e-03, 1.60336927e-02, 1.63422722e-02],\n",
       "       [4.38940166e+00, 8.29498416e+00, 2.95596904e+00, ...,\n",
       "        8.54926878e-03, 1.14003228e-02, 9.99533721e-03],\n",
       "       [4.30189379e+00, 8.30912095e+00, 3.04347379e+00, ...,\n",
       "        4.03531720e-02, 2.82761912e-02, 3.93228731e-02],\n",
       "       ...,\n",
       "       [9.77510227e-01, 9.69331392e+00, 2.62094545e-01, ...,\n",
       "        1.54633999e-01, 9.91247392e-02, 6.22087084e-02],\n",
       "       [1.13217689e+00, 9.64763229e+00, 6.02637611e-01, ...,\n",
       "        1.58711528e-01, 1.64529793e-01, 1.19334884e-01],\n",
       "       [1.21005560e+00, 9.61081390e+00, 6.95647444e-01, ...,\n",
       "        1.00596943e-01, 1.37480745e-01, 1.14371960e-01]])"
      ]
     },
     "execution_count": 10,
     "metadata": {},
     "output_type": "execute_result"
    }
   ],
   "source": [
    "xTrain"
   ]
  },
  {
   "cell_type": "code",
   "execution_count": 9,
   "metadata": {},
   "outputs": [
    {
     "data": {
      "text/plain": [
       "(30099,)"
      ]
     },
     "execution_count": 9,
     "metadata": {},
     "output_type": "execute_result"
    }
   ],
   "source": [
    "yTrain.shape"
   ]
  },
  {
   "cell_type": "markdown",
   "metadata": {
    "deletable": false,
    "editable": false,
    "nbgrader": {
     "grade": false,
     "locked": true,
     "solution": false
    },
    "tags": []
   },
   "source": [
    "### Training an RF Classifier\n",
    "\n",
    "An RF will be one of the models that we will consider as a baseline. Let us begin by defining some helper functions."
   ]
  },
  {
   "cell_type": "code",
   "execution_count": 5,
   "metadata": {
    "deletable": false,
    "editable": false,
    "nbgrader": {
     "grade": false,
     "locked": true,
     "solution": false
    }
   },
   "outputs": [],
   "source": [
    "import sklearn.metrics as metrics\n",
    "from sklearn.metrics import accuracy_score, confusion_matrix, ConfusionMatrixDisplay\n",
    "\n",
    "# This function produces a summary of performance metrics including a confusion matrix\n",
    "def summaryPerf(yTrain,yTrainHat,y,yHat):\n",
    "    # Plotting confusion matrix for the non-training set:\n",
    "    cm = metrics.confusion_matrix(y,yHat,normalize='true')\n",
    "    disp = metrics.ConfusionMatrixDisplay(confusion_matrix=cm,display_labels=\n",
    "                                  ['Walk Hard','Down Stairs','Up Stairs','Walk Soft'])\n",
    "    disp.plot()\n",
    "\n",
    "    # Displaying metrics for training and non-training sets\n",
    "    print('Training:  Acc = {:4.3f}'.format(metrics.accuracy_score(yTrain,yTrainHat)))\n",
    "    print('Non-Train: Acc = {:4.3f}'.format(metrics.accuracy_score(y,yHat)))\n",
    "    print('Training:  BalAcc = {:4.3f}'.format(metrics.balanced_accuracy_score(yTrain,yTrainHat)))\n",
    "    print('Non-Train: BalAcc = {:4.3f}'.format(metrics.balanced_accuracy_score(y,yHat)))"
   ]
  },
  {
   "cell_type": "markdown",
   "metadata": {
    "deletable": false,
    "editable": false,
    "nbgrader": {
     "grade": false,
     "locked": true,
     "solution": false
    }
   },
   "source": [
    "Defining and training the model."
   ]
  },
  {
   "cell_type": "code",
   "execution_count": 6,
   "metadata": {
    "colab": {
     "base_uri": "https://localhost:8080/",
     "height": 74
    },
    "deletable": false,
    "editable": false,
    "executionInfo": {
     "elapsed": 23446,
     "status": "ok",
     "timestamp": 1711034881628,
     "user": {
      "displayName": "Edgar Lobaton",
      "userId": "02856608958118334478"
     },
     "user_tz": 240
    },
    "id": "nNe8pX7EmQhc",
    "nbgrader": {
     "grade": false,
     "locked": true,
     "solution": false
    },
    "outputId": "b8134018-985f-49c2-a6fc-a31bf701fa5a"
   },
   "outputs": [
    {
     "data": {
      "text/html": [
       "<style>#sk-container-id-1 {color: black;}#sk-container-id-1 pre{padding: 0;}#sk-container-id-1 div.sk-toggleable {background-color: white;}#sk-container-id-1 label.sk-toggleable__label {cursor: pointer;display: block;width: 100%;margin-bottom: 0;padding: 0.3em;box-sizing: border-box;text-align: center;}#sk-container-id-1 label.sk-toggleable__label-arrow:before {content: \"▸\";float: left;margin-right: 0.25em;color: #696969;}#sk-container-id-1 label.sk-toggleable__label-arrow:hover:before {color: black;}#sk-container-id-1 div.sk-estimator:hover label.sk-toggleable__label-arrow:before {color: black;}#sk-container-id-1 div.sk-toggleable__content {max-height: 0;max-width: 0;overflow: hidden;text-align: left;background-color: #f0f8ff;}#sk-container-id-1 div.sk-toggleable__content pre {margin: 0.2em;color: black;border-radius: 0.25em;background-color: #f0f8ff;}#sk-container-id-1 input.sk-toggleable__control:checked~div.sk-toggleable__content {max-height: 200px;max-width: 100%;overflow: auto;}#sk-container-id-1 input.sk-toggleable__control:checked~label.sk-toggleable__label-arrow:before {content: \"▾\";}#sk-container-id-1 div.sk-estimator input.sk-toggleable__control:checked~label.sk-toggleable__label {background-color: #d4ebff;}#sk-container-id-1 div.sk-label input.sk-toggleable__control:checked~label.sk-toggleable__label {background-color: #d4ebff;}#sk-container-id-1 input.sk-hidden--visually {border: 0;clip: rect(1px 1px 1px 1px);clip: rect(1px, 1px, 1px, 1px);height: 1px;margin: -1px;overflow: hidden;padding: 0;position: absolute;width: 1px;}#sk-container-id-1 div.sk-estimator {font-family: monospace;background-color: #f0f8ff;border: 1px dotted black;border-radius: 0.25em;box-sizing: border-box;margin-bottom: 0.5em;}#sk-container-id-1 div.sk-estimator:hover {background-color: #d4ebff;}#sk-container-id-1 div.sk-parallel-item::after {content: \"\";width: 100%;border-bottom: 1px solid gray;flex-grow: 1;}#sk-container-id-1 div.sk-label:hover label.sk-toggleable__label {background-color: #d4ebff;}#sk-container-id-1 div.sk-serial::before {content: \"\";position: absolute;border-left: 1px solid gray;box-sizing: border-box;top: 0;bottom: 0;left: 50%;z-index: 0;}#sk-container-id-1 div.sk-serial {display: flex;flex-direction: column;align-items: center;background-color: white;padding-right: 0.2em;padding-left: 0.2em;position: relative;}#sk-container-id-1 div.sk-item {position: relative;z-index: 1;}#sk-container-id-1 div.sk-parallel {display: flex;align-items: stretch;justify-content: center;background-color: white;position: relative;}#sk-container-id-1 div.sk-item::before, #sk-container-id-1 div.sk-parallel-item::before {content: \"\";position: absolute;border-left: 1px solid gray;box-sizing: border-box;top: 0;bottom: 0;left: 50%;z-index: -1;}#sk-container-id-1 div.sk-parallel-item {display: flex;flex-direction: column;z-index: 1;position: relative;background-color: white;}#sk-container-id-1 div.sk-parallel-item:first-child::after {align-self: flex-end;width: 50%;}#sk-container-id-1 div.sk-parallel-item:last-child::after {align-self: flex-start;width: 50%;}#sk-container-id-1 div.sk-parallel-item:only-child::after {width: 0;}#sk-container-id-1 div.sk-dashed-wrapped {border: 1px dashed gray;margin: 0 0.4em 0.5em 0.4em;box-sizing: border-box;padding-bottom: 0.4em;background-color: white;}#sk-container-id-1 div.sk-label label {font-family: monospace;font-weight: bold;display: inline-block;line-height: 1.2em;}#sk-container-id-1 div.sk-label-container {text-align: center;}#sk-container-id-1 div.sk-container {/* jupyter's `normalize.less` sets `[hidden] { display: none; }` but bootstrap.min.css set `[hidden] { display: none !important; }` so we also need the `!important` here to be able to override the default hidden behavior on the sphinx rendered scikit-learn.org. See: https://github.com/scikit-learn/scikit-learn/issues/21755 */display: inline-block !important;position: relative;}#sk-container-id-1 div.sk-text-repr-fallback {display: none;}</style><div id=\"sk-container-id-1\" class=\"sk-top-container\"><div class=\"sk-text-repr-fallback\"><pre>RandomForestClassifier()</pre><b>In a Jupyter environment, please rerun this cell to show the HTML representation or trust the notebook. <br />On GitHub, the HTML representation is unable to render, please try loading this page with nbviewer.org.</b></div><div class=\"sk-container\" hidden><div class=\"sk-item\"><div class=\"sk-estimator sk-toggleable\"><input class=\"sk-toggleable__control sk-hidden--visually\" id=\"sk-estimator-id-1\" type=\"checkbox\" checked><label for=\"sk-estimator-id-1\" class=\"sk-toggleable__label sk-toggleable__label-arrow\">RandomForestClassifier</label><div class=\"sk-toggleable__content\"><pre>RandomForestClassifier()</pre></div></div></div></div></div>"
      ],
      "text/plain": [
       "RandomForestClassifier()"
      ]
     },
     "execution_count": 6,
     "metadata": {},
     "output_type": "execute_result"
    }
   ],
   "source": [
    "from sklearn.ensemble import RandomForestClassifier\n",
    "\n",
    "# Defining the model using default parameters\n",
    "M_RF = RandomForestClassifier()\n",
    "\n",
    "# Training the model\n",
    "M_RF.fit(xTrain,yTrain)"
   ]
  },
  {
   "cell_type": "markdown",
   "metadata": {
    "deletable": false,
    "editable": false,
    "nbgrader": {
     "grade": false,
     "locked": true,
     "solution": false
    }
   },
   "source": [
    "Performance of predictions using the training and validation set."
   ]
  },
  {
   "cell_type": "code",
   "execution_count": 7,
   "metadata": {
    "colab": {
     "base_uri": "https://localhost:8080/"
    },
    "deletable": false,
    "editable": false,
    "executionInfo": {
     "elapsed": 1581,
     "status": "ok",
     "timestamp": 1711034883207,
     "user": {
      "displayName": "Edgar Lobaton",
      "userId": "02856608958118334478"
     },
     "user_tz": 240
    },
    "id": "zCISpYPHmQhd",
    "nbgrader": {
     "grade": false,
     "locked": true,
     "solution": false
    },
    "outputId": "47760dc0-f808-462d-d71a-cc72fd62de83"
   },
   "outputs": [
    {
     "name": "stdout",
     "output_type": "stream",
     "text": [
      "Results for Validation:\n",
      "\n",
      "Training:  Acc = 1.000\n",
      "Non-Train: Acc = 0.850\n",
      "Training:  BalAcc = 1.000\n",
      "Non-Train: BalAcc = 0.780\n"
     ]
    },
    {
     "data": {
      "image/png": "[encoded data removed]",
      "text/plain": [
       "<Figure size 432x288 with 2 Axes>"
      ]
     },
     "metadata": {
      "needs_background": "light"
     },
     "output_type": "display_data"
    }
   ],
   "source": [
    "yTrainHat = M_RF.predict(xTrain)\n",
    "yValHat = M_RF.predict(xVal)\n",
    "\n",
    "print('Results for Validation:\\n')\n",
    "summaryPerf(yTrain,yTrainHat,yVal,yValHat)"
   ]
  },
  {
   "cell_type": "markdown",
   "metadata": {
    "deletable": false,
    "editable": false,
    "nbgrader": {
     "grade": false,
     "locked": true,
     "solution": false
    }
   },
   "source": [
    "### Training MLPs\n",
    "\n",
    "Our main objective will be to do some optimization on the architecture. Let us begin by defining some helper functions."
   ]
  },
  {
   "cell_type": "code",
   "execution_count": 8,
   "metadata": {
    "deletable": false,
    "editable": false,
    "executionInfo": {
     "elapsed": 253,
     "status": "ok",
     "timestamp": 1711035040557,
     "user": {
      "displayName": "Edgar Lobaton",
      "userId": "02856608958118334478"
     },
     "user_tz": 240
    },
    "id": "JRa1XfOZmQhd",
    "nbgrader": {
     "grade": false,
     "locked": true,
     "solution": false
    }
   },
   "outputs": [],
   "source": [
    "import torch\n",
    "import torch.nn as nn\n",
    "\n",
    "# Creating a wrapper so we have the same interface for all the methods. This wrapper takes as an\n",
    "# input an mlp model so we can reuse it with different model architectures.\n",
    "class NetWrapper:\n",
    "  def __init__(self,model,device,epochs,weights):\n",
    "    self.model = model\n",
    "    self.loss_fn = nn.CrossEntropyLoss(weight = torch.tensor(weights))\n",
    "    self.optimizer = torch.optim.Adam(self.model.parameters(), lr=1e-3)\n",
    "    self.device = device\n",
    "    self.epochs = epochs\n",
    "\n",
    "  def fit(self,X,y):\n",
    "    X = torch.from_numpy(X).float()\n",
    "    X = X.to(self.device)\n",
    "    y = torch.from_numpy(y).long()\n",
    "    y = y.to(self.device)\n",
    "\n",
    "    for t in range(self.epochs):\n",
    "      pred = self.model(X)\n",
    "      loss = self.loss_fn(pred, y)\n",
    "\n",
    "      self.optimizer.zero_grad()\n",
    "      loss.backward()\n",
    "      self.optimizer.step()\n",
    "\n",
    "      if t%1000 == 999:\n",
    "        print(\"[Epoch {t:5d} of {epochs}] loss: {loss:1.6f}\".format(\n",
    "            t=t+1,epochs=self.epochs,loss=loss))\n",
    "\n",
    "  def predict(self,X):\n",
    "    X = torch.from_numpy(X).float()\n",
    "    X = X.to(self.device)\n",
    "\n",
    "    pred = self.model(X)\n",
    "    pred = pred.cpu().detach().numpy()\n",
    "    pred = np.argmax(pred,axis=1)\n",
    "\n",
    "    return pred\n",
    "  \n",
    "# Defining the input and output size of the model\n",
    "INPUTSIZE = 12\n",
    "OUTPUTSIZE = 4\n",
    "\n",
    "# Specify the device that you will use here. You can change redefine this variable if needed (e.g.,\n",
    "# when using Colab and wanting to use the GPUs).\n",
    "DEVICE = 'cpu'\n",
    "\n",
    "# We are keeping it simple and just using a constant number of epochs for training. You can change\n",
    "# this when trying to optimize your model but making it too big can cause overfitting and lead to\n",
    "# your model taking too long to train, which can lead to failed submissions.\n",
    "EPOCHS = 6000\n",
    "\n",
    "# These are the weights used for the cross-entropy.\n",
    "WEIGHTS = [1.,1.,1.,1.]"
   ]
  },
  {
   "cell_type": "markdown",
   "metadata": {
    "deletable": false,
    "editable": false,
    "nbgrader": {
     "grade": false,
     "locked": true,
     "solution": false
    }
   },
   "source": [
    "#### 1-Layer MLP\n",
    "\n",
    "Our first MLP model is a single layer model. In this case, we don't have a choice on the number of neurons since the dimensions of the layer are pre-determined by the input and ouput."
   ]
  },
  {
   "cell_type": "code",
   "execution_count": 9,
   "metadata": {
    "deletable": false,
    "editable": false,
    "nbgrader": {
     "grade": false,
     "locked": true,
     "solution": false
    }
   },
   "outputs": [],
   "source": [
    "# Defining the neural network architecture\n",
    "class Net1(nn.Module):\n",
    "  def __init__(self):\n",
    "    super(Net1, self).__init__()\n",
    "    self.linear_relu_stack = nn.Sequential(\n",
    "        nn.Linear(INPUTSIZE,OUTPUTSIZE),\n",
    "    )\n",
    "\n",
    "  def forward(self, x):\n",
    "    logits = self.linear_relu_stack(x)\n",
    "    return logits"
   ]
  },
  {
   "cell_type": "markdown",
   "metadata": {
    "deletable": false,
    "editable": false,
    "nbgrader": {
     "grade": false,
     "locked": true,
     "solution": false
    }
   },
   "source": [
    "Defining and training a model. We are providing some default values for the number of epochs and the weights. You need to find a better set of values so you overcome the low balanced accuracy results."
   ]
  },
  {
   "cell_type": "code",
   "execution_count": 10,
   "metadata": {},
   "outputs": [],
   "source": [
    "# Initializing the optimal weights and weights to the default values\n",
    "epochs_opt = EPOCHS\n",
    "weights_opt = WEIGHTS\n",
    "\n",
    "# Setting the optimal values. Just overwrite the values above.\n",
    "###\n",
    "### YOUR CODE HERE\n",
    "###\n",
    "\n",
    "# Trying to weight according to imbalances in each class\n",
    "class_distribution = np.unique(yTrain, return_counts=True)[1]\n",
    "scale_factor = 2\n",
    "weights_opt = (scale_factor*(1/class_distribution)/np.linalg.norm(1/class_distribution)).tolist()\n",
    "\n",
    "epochs_opt= 8000\n"
   ]
  },
  {
   "cell_type": "code",
   "execution_count": 11,
   "metadata": {
    "deletable": false,
    "editable": false,
    "nbgrader": {
     "grade": false,
     "locked": true,
     "solution": false
    }
   },
   "outputs": [
    {
     "name": "stdout",
     "output_type": "stream",
     "text": [
      "----------------------------------------------------------------\n",
      "        Layer (type)               Output Shape         Param #\n",
      "================================================================\n",
      "            Linear-1                 [-1, 1, 4]              52\n",
      "              Net1-2                 [-1, 1, 4]               0\n",
      "================================================================\n",
      "Total params: 52\n",
      "Trainable params: 52\n",
      "Non-trainable params: 0\n",
      "----------------------------------------------------------------\n",
      "Input size (MB): 0.00\n",
      "Forward/backward pass size (MB): 0.00\n",
      "Params size (MB): 0.00\n",
      "Estimated Total Size (MB): 0.00\n",
      "----------------------------------------------------------------\n",
      "\n",
      "[Epoch  1000 of 8000] loss: 0.797563\n",
      "[Epoch  2000 of 8000] loss: 0.654858\n",
      "[Epoch  3000 of 8000] loss: 0.594100\n",
      "[Epoch  4000 of 8000] loss: 0.564048\n",
      "[Epoch  5000 of 8000] loss: 0.547998\n",
      "[Epoch  6000 of 8000] loss: 0.538351\n",
      "[Epoch  7000 of 8000] loss: 0.531723\n",
      "[Epoch  8000 of 8000] loss: 0.526603\n"
     ]
    }
   ],
   "source": [
    "# Defining the Model\n",
    "model = Net1().to(DEVICE)\n",
    "M1 = NetWrapper(model,DEVICE,epochs_opt,weights_opt)\n",
    "\n",
    "# Displaying a summary\n",
    "fncs.summary(M1.model,(1,INPUTSIZE))\n",
    "\n",
    "# Training the model\n",
    "M1.fit(xTrain,yTrain)"
   ]
  },
  {
   "cell_type": "markdown",
   "metadata": {
    "deletable": false,
    "editable": false,
    "nbgrader": {
     "grade": false,
     "locked": true,
     "solution": false
    }
   },
   "source": [
    "Performance on training and validation sets."
   ]
  },
  {
   "cell_type": "markdown",
   "metadata": {},
   "source": []
  },
  {
   "cell_type": "code",
   "execution_count": 12,
   "metadata": {
    "deletable": false,
    "editable": false,
    "nbgrader": {
     "grade": false,
     "locked": true,
     "solution": false
    }
   },
   "outputs": [
    {
     "name": "stdout",
     "output_type": "stream",
     "text": [
      "Results for Validation:\n",
      "\n",
      "Training:  Acc = 0.725\n",
      "Non-Train: Acc = 0.688\n",
      "Training:  BalAcc = 0.815\n",
      "Non-Train: BalAcc = 0.821\n"
     ]
    },
    {
     "data": {
      "image/png": "[encoded data removed]",
      "text/plain": [
       "<Figure size 432x288 with 2 Axes>"
      ]
     },
     "metadata": {
      "needs_background": "light"
     },
     "output_type": "display_data"
    }
   ],
   "source": [
    "yTrainHat1 = M1.predict(xTrain)\n",
    "yValHat1 = M1.predict(xVal)\n",
    "\n",
    "print('Results for Validation:\\n')\n",
    "summaryPerf(yTrain,yTrainHat1,yVal,yValHat1)"
   ]
  },
  {
   "cell_type": "code",
   "execution_count": 13,
   "metadata": {
    "deletable": false,
    "editable": false,
    "nbgrader": {
     "grade": true,
     "grade_id": "MLP1",
     "locked": true,
     "points": "10",
     "solution": false
    }
   },
   "outputs": [],
   "source": [
    "# You should be able to get get a model with balanced accuracy greater than 0.75\n",
    "assert metrics.balanced_accuracy_score(yVal,yValHat1)>0.75"
   ]
  },
  {
   "cell_type": "markdown",
   "metadata": {
    "deletable": false,
    "editable": false,
    "nbgrader": {
     "grade": false,
     "locked": true,
     "solution": false
    }
   },
   "source": [
    "#### 2-Layer MLP\n",
    "\n",
    "In this case, we have a choice on the number of neurons for the hidden layer. Note that in this section, we will use the optimal number of epochs and weights found on the previous section."
   ]
  },
  {
   "cell_type": "code",
   "execution_count": 14,
   "metadata": {
    "deletable": false,
    "editable": false,
    "nbgrader": {
     "grade": false,
     "locked": true,
     "solution": false
    }
   },
   "outputs": [],
   "source": [
    "# Defining the neural network architecture\n",
    "class Net2(nn.Module):\n",
    "  def __init__(self,noNeurons):\n",
    "    super(Net2, self).__init__()\n",
    "    self.linear_relu_stack = nn.Sequential(\n",
    "        nn.Linear(INPUTSIZE,noNeurons),\n",
    "        nn.ReLU(),\n",
    "        nn.Linear(noNeurons,OUTPUTSIZE),\n",
    "    )\n",
    "\n",
    "  def forward(self, x):\n",
    "    logits = self.linear_relu_stack(x)\n",
    "    return logits"
   ]
  },
  {
   "cell_type": "markdown",
   "metadata": {
    "deletable": false,
    "editable": false,
    "nbgrader": {
     "grade": false,
     "locked": true,
     "solution": false
    }
   },
   "source": [
    "Defining and training the model with an arbitrary number of neurons."
   ]
  },
  {
   "cell_type": "code",
   "execution_count": 15,
   "metadata": {},
   "outputs": [],
   "source": [
    "# Setting the number of neurons. You can change this.\n",
    "noNeurons = 4"
   ]
  },
  {
   "cell_type": "code",
   "execution_count": 16,
   "metadata": {
    "deletable": false,
    "editable": false,
    "nbgrader": {
     "grade": false,
     "locked": true,
     "solution": false
    }
   },
   "outputs": [
    {
     "name": "stdout",
     "output_type": "stream",
     "text": [
      "----------------------------------------------------------------\n",
      "        Layer (type)               Output Shape         Param #\n",
      "================================================================\n",
      "            Linear-1                 [-1, 1, 4]              52\n",
      "              ReLU-2                 [-1, 1, 4]               0\n",
      "            Linear-3                 [-1, 1, 4]              20\n",
      "              Net2-4                 [-1, 1, 4]               0\n",
      "================================================================\n",
      "Total params: 72\n",
      "Trainable params: 72\n",
      "Non-trainable params: 0\n",
      "----------------------------------------------------------------\n",
      "Input size (MB): 0.00\n",
      "Forward/backward pass size (MB): 0.00\n",
      "Params size (MB): 0.00\n",
      "Estimated Total Size (MB): 0.00\n",
      "----------------------------------------------------------------\n",
      "\n",
      "[Epoch  1000 of 8000] loss: 0.604613\n",
      "[Epoch  2000 of 8000] loss: 0.522174\n",
      "[Epoch  3000 of 8000] loss: 0.491955\n",
      "[Epoch  4000 of 8000] loss: 0.470088\n",
      "[Epoch  5000 of 8000] loss: 0.418101\n",
      "[Epoch  6000 of 8000] loss: 0.407358\n",
      "[Epoch  7000 of 8000] loss: 0.403680\n",
      "[Epoch  8000 of 8000] loss: 0.401626\n"
     ]
    }
   ],
   "source": [
    "if(not SUBMISSION):\n",
    "    # Defining the Model\n",
    "    model = Net2(noNeurons).to(DEVICE)\n",
    "    M2 = NetWrapper(model,DEVICE,epochs_opt,weights_opt)\n",
    "\n",
    "    # Displaying a summary\n",
    "    fncs.summary(M2.model,(1,INPUTSIZE))\n",
    "\n",
    "    # Training the model\n",
    "    M2.fit(xTrain,yTrain)"
   ]
  },
  {
   "cell_type": "markdown",
   "metadata": {
    "deletable": false,
    "editable": false,
    "nbgrader": {
     "grade": false,
     "locked": true,
     "solution": false
    }
   },
   "source": [
    "Performance of predictions using the training and validation set."
   ]
  },
  {
   "cell_type": "code",
   "execution_count": 17,
   "metadata": {
    "deletable": false,
    "editable": false,
    "nbgrader": {
     "grade": false,
     "locked": true,
     "solution": false
    }
   },
   "outputs": [
    {
     "name": "stdout",
     "output_type": "stream",
     "text": [
      "Results for Validation:\n",
      "\n",
      "Training:  Acc = 0.771\n",
      "Non-Train: Acc = 0.768\n",
      "Training:  BalAcc = 0.847\n",
      "Non-Train: BalAcc = 0.849\n"
     ]
    },
    {
     "data": {
      "image/png": "[encoded data removed]",
      "text/plain": [
       "<Figure size 432x288 with 2 Axes>"
      ]
     },
     "metadata": {
      "needs_background": "light"
     },
     "output_type": "display_data"
    }
   ],
   "source": [
    "if(not SUBMISSION):\n",
    "    yTrainHat = M2.predict(xTrain)\n",
    "    yValHat = M2.predict(xVal)\n",
    "\n",
    "    print('Results for Validation:\\n')\n",
    "    summaryPerf(yTrain,yTrainHat,yVal,yValHat)"
   ]
  },
  {
   "cell_type": "markdown",
   "metadata": {
    "deletable": false,
    "editable": false,
    "nbgrader": {
     "grade": false,
     "locked": true,
     "solution": false
    }
   },
   "source": [
    "Performing a search for the number of neurons."
   ]
  },
  {
   "cell_type": "code",
   "execution_count": 18,
   "metadata": {
    "deletable": false,
    "editable": false,
    "nbgrader": {
     "grade": false,
     "locked": true,
     "solution": false
    }
   },
   "outputs": [
    {
     "name": "stdout",
     "output_type": "stream",
     "text": [
      "[Epoch  1000 of 8000] loss: 0.989378\n",
      "[Epoch  2000 of 8000] loss: 0.898903\n",
      "[Epoch  3000 of 8000] loss: 0.814398\n",
      "[Epoch  4000 of 8000] loss: 0.789672\n",
      "[Epoch  5000 of 8000] loss: 0.778408\n",
      "[Epoch  6000 of 8000] loss: 0.772213\n",
      "[Epoch  7000 of 8000] loss: 0.769601\n",
      "[Epoch  8000 of 8000] loss: 0.768676\n",
      "[Epoch  1000 of 8000] loss: 1.272783\n",
      "[Epoch  2000 of 8000] loss: 1.025989\n",
      "[Epoch  3000 of 8000] loss: 0.912010\n",
      "[Epoch  4000 of 8000] loss: 0.834698\n",
      "[Epoch  5000 of 8000] loss: 0.803267\n",
      "[Epoch  6000 of 8000] loss: 0.787857\n",
      "[Epoch  7000 of 8000] loss: 0.778069\n",
      "[Epoch  8000 of 8000] loss: 0.772015\n",
      "[Epoch  1000 of 8000] loss: 0.562875\n",
      "[Epoch  2000 of 8000] loss: 0.449716\n",
      "[Epoch  3000 of 8000] loss: 0.418307\n",
      "[Epoch  4000 of 8000] loss: 0.399756\n",
      "[Epoch  5000 of 8000] loss: 0.389566\n",
      "[Epoch  6000 of 8000] loss: 0.382566\n",
      "[Epoch  7000 of 8000] loss: 0.379183\n",
      "[Epoch  8000 of 8000] loss: 0.376696\n",
      "[Epoch  1000 of 8000] loss: 0.499108\n",
      "[Epoch  2000 of 8000] loss: 0.442942\n",
      "[Epoch  3000 of 8000] loss: 0.403070\n",
      "[Epoch  4000 of 8000] loss: 0.388433\n",
      "[Epoch  5000 of 8000] loss: 0.365458\n",
      "[Epoch  6000 of 8000] loss: 0.359083\n",
      "[Epoch  7000 of 8000] loss: 0.356083\n",
      "[Epoch  8000 of 8000] loss: 0.354138\n"
     ]
    },
    {
     "data": {
      "image/png": "[encoded data removed]",
      "text/plain": [
       "<Figure size 432x288 with 1 Axes>"
      ]
     },
     "metadata": {
      "needs_background": "light"
     },
     "output_type": "display_data"
    }
   ],
   "source": [
    "if(not SUBMISSION):\n",
    "    # Lists containing the balanced accuracy for training and validation sets.\n",
    "    accList_train = []\n",
    "    accList_val = []\n",
    "\n",
    "    # Setting a range of neurons \n",
    "    noNeuronsList = np.power(2,range(1,5))\n",
    "\n",
    "    for noNeurons in noNeuronsList:\n",
    "        # Defining and training the model\n",
    "        model = Net2(noNeurons).to(DEVICE)\n",
    "        M2 = NetWrapper(model,DEVICE,epochs_opt,weights_opt)\n",
    "        M2.fit(xTrain,yTrain)\n",
    "\n",
    "        # Computing the predictions\n",
    "        yTrainHat = M2.predict(xTrain)\n",
    "        yValHat = M2.predict(xVal)\n",
    "\n",
    "        # Storing the accuracies\n",
    "        accList_train.append(metrics.balanced_accuracy_score(yTrain,yTrainHat))\n",
    "        accList_val.append(metrics.balanced_accuracy_score(yVal,yValHat))\n",
    "\n",
    "    # Plotting the results\n",
    "    plt.plot(noNeuronsList,accList_train)\n",
    "    plt.plot(noNeuronsList,accList_val)\n",
    "    plt.legend(['Train Accuracy','Val Accuracy'])\n",
    "    plt.xlabel('Number of Neurons')\n",
    "    plt.show()"
   ]
  },
  {
   "cell_type": "markdown",
   "metadata": {
    "deletable": false,
    "editable": false,
    "nbgrader": {
     "grade": false,
     "locked": true,
     "solution": false
    }
   },
   "source": [
    "Picking the best model out of the loop. Remember the model with the smallest capacity but close to the best validation performance will reduce the chances of overfitting down the road."
   ]
  },
  {
   "cell_type": "code",
   "execution_count": 19,
   "metadata": {},
   "outputs": [],
   "source": [
    "# Initializing the number of neurons\n",
    "noNeurons1_opt = 4\n",
    "\n",
    "# Selecting an optimal number of neurons. Just overwrite the value above.\n",
    "###\n",
    "### YOUR CODE HERE\n",
    "###\n",
    "noNeurons1_opt = 16"
   ]
  },
  {
   "cell_type": "markdown",
   "metadata": {
    "deletable": false,
    "editable": false,
    "nbgrader": {
     "grade": false,
     "locked": true,
     "solution": false
    }
   },
   "source": [
    "Defining and training the optimal model."
   ]
  },
  {
   "cell_type": "code",
   "execution_count": 20,
   "metadata": {
    "deletable": false,
    "editable": false,
    "nbgrader": {
     "grade": false,
     "locked": true,
     "solution": false
    }
   },
   "outputs": [
    {
     "name": "stdout",
     "output_type": "stream",
     "text": [
      "----------------------------------------------------------------\n",
      "        Layer (type)               Output Shape         Param #\n",
      "================================================================\n",
      "            Linear-1                [-1, 1, 16]             208\n",
      "              ReLU-2                [-1, 1, 16]               0\n",
      "            Linear-3                 [-1, 1, 4]              68\n",
      "              Net2-4                 [-1, 1, 4]               0\n",
      "================================================================\n",
      "Total params: 276\n",
      "Trainable params: 276\n",
      "Non-trainable params: 0\n",
      "----------------------------------------------------------------\n",
      "Input size (MB): 0.00\n",
      "Forward/backward pass size (MB): 0.00\n",
      "Params size (MB): 0.00\n",
      "Estimated Total Size (MB): 0.00\n",
      "----------------------------------------------------------------\n",
      "\n",
      "[Epoch  1000 of 8000] loss: 0.486442\n",
      "[Epoch  2000 of 8000] loss: 0.420372\n",
      "[Epoch  3000 of 8000] loss: 0.383114\n",
      "[Epoch  4000 of 8000] loss: 0.369159\n",
      "[Epoch  5000 of 8000] loss: 0.362434\n",
      "[Epoch  6000 of 8000] loss: 0.358392\n",
      "[Epoch  7000 of 8000] loss: 0.352968\n",
      "[Epoch  8000 of 8000] loss: 0.351183\n"
     ]
    }
   ],
   "source": [
    "# Defining the Model\n",
    "model = Net2(noNeurons1_opt).to(DEVICE)\n",
    "M2 = NetWrapper(model,DEVICE,epochs_opt,weights_opt)\n",
    "\n",
    "# Displaying a summary\n",
    "fncs.summary(M2.model,(1,INPUTSIZE))\n",
    "\n",
    "# Training the model\n",
    "M2.fit(xTrain,yTrain)"
   ]
  },
  {
   "cell_type": "markdown",
   "metadata": {
    "deletable": false,
    "editable": false,
    "nbgrader": {
     "grade": false,
     "locked": true,
     "solution": false
    }
   },
   "source": [
    "Performance on the training and validation sets."
   ]
  },
  {
   "cell_type": "code",
   "execution_count": 21,
   "metadata": {
    "deletable": false,
    "editable": false,
    "nbgrader": {
     "grade": false,
     "locked": true,
     "solution": false
    }
   },
   "outputs": [
    {
     "name": "stdout",
     "output_type": "stream",
     "text": [
      "Results for Validation:\n",
      "\n",
      "Training:  Acc = 0.796\n",
      "Non-Train: Acc = 0.758\n",
      "Training:  BalAcc = 0.864\n",
      "Non-Train: BalAcc = 0.859\n"
     ]
    },
    {
     "data": {
      "image/png": "[encoded data removed]",
      "text/plain": [
       "<Figure size 432x288 with 2 Axes>"
      ]
     },
     "metadata": {
      "needs_background": "light"
     },
     "output_type": "display_data"
    }
   ],
   "source": [
    "yTrainHat2 = M2.predict(xTrain)\n",
    "yValHat2 = M2.predict(xVal)\n",
    "\n",
    "print('Results for Validation:\\n')\n",
    "summaryPerf(yTrain,yTrainHat2,yVal,yValHat2)"
   ]
  },
  {
   "cell_type": "code",
   "execution_count": 22,
   "metadata": {
    "deletable": false,
    "editable": false,
    "nbgrader": {
     "grade": true,
     "grade_id": "MLP2",
     "locked": true,
     "points": "10",
     "solution": false
    }
   },
   "outputs": [],
   "source": [
    "# You should be able to get get a model with balanced accuracy greater than 0.82\n",
    "assert metrics.balanced_accuracy_score(yVal,yValHat2)>0.82"
   ]
  },
  {
   "cell_type": "markdown",
   "metadata": {
    "deletable": false,
    "editable": false,
    "nbgrader": {
     "grade": false,
     "locked": true,
     "solution": false
    }
   },
   "source": [
    "#### 3-Layer MLP\n",
    "\n",
    "When defining a 3-layer MLP, we have a choice for two of the neurons. We will set the first hidden layer to have the same number of layers as the optimal value found from the previous sections. We will also reuse the weights and number of epochs.\n",
    "\n",
    "In this case, you will have to complete the neural network below to have an additional hidden layer followed by a ReLU activation."
   ]
  },
  {
   "cell_type": "code",
   "execution_count": 23,
   "metadata": {},
   "outputs": [],
   "source": [
    "# Defining the neural network architecture\n",
    "class Net3(nn.Module):\n",
    "  def __init__(self,noNeurons1,noNeurons2):\n",
    "    super(Net3, self).__init__()\n",
    "    self.linear_relu_stack = nn.Sequential(\n",
    "        nn.Linear(INPUTSIZE,noNeurons1),\n",
    "        nn.ReLU(),\n",
    "        nn.Linear(noNeurons1,noNeurons2),\n",
    "        nn.ReLU(),\n",
    "        nn.Linear(noNeurons2,OUTPUTSIZE),\n",
    "    )\n",
    "\n",
    "  def forward(self, x):\n",
    "    logits = self.linear_relu_stack(x)\n",
    "    return logits"
   ]
  },
  {
   "cell_type": "code",
   "execution_count": 24,
   "metadata": {
    "deletable": false,
    "editable": false,
    "nbgrader": {
     "grade": true,
     "grade_id": "MLP3.1",
     "locked": true,
     "points": "10",
     "solution": false
    }
   },
   "outputs": [],
   "source": [
    "# Generating an arbitrary model so extract its layers\n",
    "model = Net3(4,4).to(DEVICE)\n",
    "layers = dict(model.named_modules())\n",
    "layers = layers['linear_relu_stack']\n",
    "\n",
    "# Checking that the types of layers are correct. If this fails is because you are not specifying\n",
    "# the correct type of layers in your model.\n",
    "assert isinstance(layers[0],torch.nn.Linear)\n",
    "assert isinstance(layers[1],torch.nn.ReLU)\n",
    "assert isinstance(layers[2],torch.nn.Linear)\n",
    "assert isinstance(layers[3],torch.nn.ReLU)\n",
    "assert isinstance(layers[4],torch.nn.Linear)"
   ]
  },
  {
   "cell_type": "markdown",
   "metadata": {
    "deletable": false,
    "editable": false,
    "nbgrader": {
     "grade": false,
     "locked": true,
     "solution": false
    }
   },
   "source": [
    "Performing a search for the number of neurons."
   ]
  },
  {
   "cell_type": "code",
   "execution_count": 25,
   "metadata": {
    "deletable": false,
    "editable": false,
    "nbgrader": {
     "grade": false,
     "locked": true,
     "solution": false
    }
   },
   "outputs": [
    {
     "name": "stdout",
     "output_type": "stream",
     "text": [
      "[Epoch  1000 of 8000] loss: 0.581585\n",
      "[Epoch  2000 of 8000] loss: 0.448851\n",
      "[Epoch  3000 of 8000] loss: 0.413518\n",
      "[Epoch  4000 of 8000] loss: 0.397735\n",
      "[Epoch  5000 of 8000] loss: 0.386940\n",
      "[Epoch  6000 of 8000] loss: 0.380227\n",
      "[Epoch  7000 of 8000] loss: 0.376009\n",
      "[Epoch  8000 of 8000] loss: 0.371447\n",
      "[Epoch  1000 of 8000] loss: 0.480138\n",
      "[Epoch  2000 of 8000] loss: 0.409891\n",
      "[Epoch  3000 of 8000] loss: 0.388502\n",
      "[Epoch  4000 of 8000] loss: 0.377087\n",
      "[Epoch  5000 of 8000] loss: 0.364970\n",
      "[Epoch  6000 of 8000] loss: 0.356027\n",
      "[Epoch  7000 of 8000] loss: 0.351806\n",
      "[Epoch  8000 of 8000] loss: 0.348245\n",
      "[Epoch  1000 of 8000] loss: 0.401590\n",
      "[Epoch  2000 of 8000] loss: 0.360939\n",
      "[Epoch  3000 of 8000] loss: 0.351917\n",
      "[Epoch  4000 of 8000] loss: 0.345071\n",
      "[Epoch  5000 of 8000] loss: 0.341511\n",
      "[Epoch  6000 of 8000] loss: 0.338367\n",
      "[Epoch  7000 of 8000] loss: 0.335466\n",
      "[Epoch  8000 of 8000] loss: 0.333600\n",
      "[Epoch  1000 of 8000] loss: 0.387603\n",
      "[Epoch  2000 of 8000] loss: 0.368008\n",
      "[Epoch  3000 of 8000] loss: 0.350737\n",
      "[Epoch  4000 of 8000] loss: 0.342849\n",
      "[Epoch  5000 of 8000] loss: 0.337942\n",
      "[Epoch  6000 of 8000] loss: 0.334959\n",
      "[Epoch  7000 of 8000] loss: 0.329857\n",
      "[Epoch  8000 of 8000] loss: 0.324675\n"
     ]
    },
    {
     "data": {
      "image/png": "[encoded data removed]",
      "text/plain": [
       "<Figure size 432x288 with 1 Axes>"
      ]
     },
     "metadata": {
      "needs_background": "light"
     },
     "output_type": "display_data"
    }
   ],
   "source": [
    "if(not SUBMISSION):\n",
    "    # Lists containing the balanced accuracy for training and validation sets.\n",
    "    accList_train = []\n",
    "    accList_val = []\n",
    "\n",
    "    # Setting a range of neurons \n",
    "    noNeuronsList = np.power(2,range(1,5))\n",
    "\n",
    "    for noNeurons in noNeuronsList:\n",
    "        # Defining and training the model\n",
    "        model = Net3(noNeurons1_opt,noNeurons).to(DEVICE)\n",
    "        M3 = NetWrapper(model,DEVICE,epochs_opt,weights_opt)\n",
    "        M3.fit(xTrain,yTrain)\n",
    "\n",
    "        # Computing the predictions\n",
    "        yTrainHat = M3.predict(xTrain)\n",
    "        yValHat = M3.predict(xVal)\n",
    "\n",
    "        # Storing the accuracies\n",
    "        accList_train.append(metrics.balanced_accuracy_score(yTrain,yTrainHat))\n",
    "        accList_val.append(metrics.balanced_accuracy_score(yVal,yValHat))\n",
    "\n",
    "    # Plotting the results\n",
    "    plt.plot(noNeuronsList,accList_train)\n",
    "    plt.plot(noNeuronsList,accList_val)\n",
    "    plt.legend(['Train Accuracy','Val Accuracy'])\n",
    "    plt.xlabel('Number of Neurons')\n",
    "    plt.show()"
   ]
  },
  {
   "cell_type": "markdown",
   "metadata": {
    "deletable": false,
    "editable": false,
    "nbgrader": {
     "grade": false,
     "locked": true,
     "solution": false
    }
   },
   "source": [
    "Picking the best model out of the loop. Remember the model with the smallest capacity but close to the best validation performance will reduce the chances of overfitting down the road."
   ]
  },
  {
   "cell_type": "code",
   "execution_count": 26,
   "metadata": {},
   "outputs": [],
   "source": [
    "# Initializing the number of neurons\n",
    "noNeurons2_opt = 4\n",
    "\n",
    "# Selecting an optimal number of neurons. Just overwrite the previous value.\n",
    "###\n",
    "### YOUR CODE HERE\n",
    "###\n",
    "noNeurons2_opt = 7\n"
   ]
  },
  {
   "cell_type": "markdown",
   "metadata": {
    "deletable": false,
    "editable": false,
    "nbgrader": {
     "grade": false,
     "locked": true,
     "solution": false
    }
   },
   "source": [
    "Defining and training the optimal model."
   ]
  },
  {
   "cell_type": "code",
   "execution_count": 27,
   "metadata": {
    "deletable": false,
    "editable": false,
    "nbgrader": {
     "grade": false,
     "locked": true,
     "solution": false
    }
   },
   "outputs": [
    {
     "name": "stdout",
     "output_type": "stream",
     "text": [
      "----------------------------------------------------------------\n",
      "        Layer (type)               Output Shape         Param #\n",
      "================================================================\n",
      "            Linear-1                [-1, 1, 16]             208\n",
      "              ReLU-2                [-1, 1, 16]               0\n",
      "            Linear-3                 [-1, 1, 7]             119\n",
      "              ReLU-4                 [-1, 1, 7]               0\n",
      "            Linear-5                 [-1, 1, 4]              32\n",
      "              Net3-6                 [-1, 1, 4]               0\n",
      "================================================================\n",
      "Total params: 359\n",
      "Trainable params: 359\n",
      "Non-trainable params: 0\n",
      "----------------------------------------------------------------\n",
      "Input size (MB): 0.00\n",
      "Forward/backward pass size (MB): 0.00\n",
      "Params size (MB): 0.00\n",
      "Estimated Total Size (MB): 0.00\n",
      "----------------------------------------------------------------\n",
      "\n",
      "[Epoch  1000 of 8000] loss: 0.398933\n",
      "[Epoch  2000 of 8000] loss: 0.362072\n",
      "[Epoch  3000 of 8000] loss: 0.347502\n",
      "[Epoch  4000 of 8000] loss: 0.340429\n",
      "[Epoch  5000 of 8000] loss: 0.334285\n",
      "[Epoch  6000 of 8000] loss: 0.328751\n",
      "[Epoch  7000 of 8000] loss: 0.326035\n",
      "[Epoch  8000 of 8000] loss: 0.324535\n"
     ]
    }
   ],
   "source": [
    "# Defining the Model\n",
    "model = Net3(noNeurons1_opt,noNeurons2_opt).to(DEVICE)\n",
    "M3 = NetWrapper(model,DEVICE,epochs_opt,weights_opt)\n",
    "\n",
    "# Displaying a summary\n",
    "fncs.summary(M3.model,(1,INPUTSIZE))\n",
    "\n",
    "# Training the model\n",
    "M3.fit(xTrain,yTrain)"
   ]
  },
  {
   "cell_type": "markdown",
   "metadata": {
    "deletable": false,
    "editable": false,
    "nbgrader": {
     "grade": false,
     "locked": true,
     "solution": false
    }
   },
   "source": [
    "Performance on the training and validation sets."
   ]
  },
  {
   "cell_type": "code",
   "execution_count": 28,
   "metadata": {
    "deletable": false,
    "editable": false,
    "nbgrader": {
     "grade": false,
     "locked": true,
     "solution": false
    }
   },
   "outputs": [
    {
     "name": "stdout",
     "output_type": "stream",
     "text": [
      "Results for Validation:\n",
      "\n",
      "Training:  Acc = 0.808\n",
      "Non-Train: Acc = 0.751\n",
      "Training:  BalAcc = 0.876\n",
      "Non-Train: BalAcc = 0.850\n"
     ]
    },
    {
     "data": {
      "image/png": "[encoded data removed]",
      "text/plain": [
       "<Figure size 432x288 with 2 Axes>"
      ]
     },
     "metadata": {
      "needs_background": "light"
     },
     "output_type": "display_data"
    }
   ],
   "source": [
    "yTrainHat3 = M3.predict(xTrain)\n",
    "yValHat3 = M3.predict(xVal)\n",
    "\n",
    "print('Results for Validation:\\n')\n",
    "summaryPerf(yTrain,yTrainHat3,yVal,yValHat3)"
   ]
  },
  {
   "cell_type": "code",
   "execution_count": 29,
   "metadata": {
    "deletable": false,
    "editable": false,
    "nbgrader": {
     "grade": true,
     "grade_id": "MLP3.2",
     "locked": true,
     "points": "10",
     "solution": false
    }
   },
   "outputs": [],
   "source": [
    "# You should be able to get get a model with balanced accuracy greater than 0.84\n",
    "assert metrics.balanced_accuracy_score(yVal,yValHat3)>0.84"
   ]
  },
  {
   "cell_type": "code",
   "execution_count": null,
   "metadata": {},
   "outputs": [],
   "source": []
  }
 ],
 "metadata": {
  "accelerator": "GPU",
  "colab": {
   "gpuType": "T4",
   "provenance": []
  },
  "kernelspec": {
   "display_name": "Python 3 [3.10]",
   "language": "python",
   "name": "python3"
  },
  "language_info": {
   "codemirror_mode": {
    "name": "ipython",
    "version": 3
   },
   "file_extension": ".py",
   "mimetype": "text/x-python",
   "name": "python",
   "nbconvert_exporter": "python",
   "pygments_lexer": "ipython3",
   "version": "3.12.2"
  }
 },
 "nbformat": 4,
 "nbformat_minor": 4
}
